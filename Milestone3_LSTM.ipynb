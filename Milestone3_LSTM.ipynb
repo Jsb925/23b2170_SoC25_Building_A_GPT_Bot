{
 "cells": [
  {
   "cell_type": "markdown",
   "id": "1d23b9bf",
   "metadata": {},
   "source": [
    "PLS NOTE, training in progress, will update with results later"
   ]
  },
  {
   "cell_type": "code",
   "execution_count": 1,
   "id": "0a1e3e52",
   "metadata": {},
   "outputs": [
    {
     "name": "stdout",
     "output_type": "stream",
     "text": [
      "The Zen of Python, by Tim Peters\n",
      "\n",
      "Beautiful is better than ugly.\n",
      "Explicit is better than implicit.\n",
      "Simple is better than complex.\n",
      "Complex is better than complicated.\n",
      "Flat is better than nested.\n",
      "Sparse is better than dense.\n",
      "Readability counts.\n",
      "Special cases aren't special enough to break the rules.\n",
      "Although practicality beats purity.\n",
      "Errors should never pass silently.\n",
      "Unless explicitly silenced.\n",
      "In the face of ambiguity, refuse the temptation to guess.\n",
      "There should be one-- and preferably only one --obvious way to do it.\n",
      "Although that way may not be obvious at first unless you're Dutch.\n",
      "Now is better than never.\n",
      "Although never is often better than *right* now.\n",
      "If the implementation is hard to explain, it's a bad idea.\n",
      "If the implementation is easy to explain, it may be a good idea.\n",
      "Namespaces are one honking great idea -- let's do more of those!\n"
     ]
    }
   ],
   "source": [
    "import torch \n",
    "import numpy as np\n",
    "import pandas as pd\n",
    "import this"
   ]
  },
  {
   "cell_type": "code",
   "execution_count": 2,
   "id": "11fc4c9d",
   "metadata": {},
   "outputs": [],
   "source": [
    "df=pd.read_csv(\"IMDB Dataset.csv\")"
   ]
  },
  {
   "cell_type": "code",
   "execution_count": 3,
   "id": "3ec63239",
   "metadata": {},
   "outputs": [
    {
     "data": {
      "text/html": [
       "<div>\n",
       "<style scoped>\n",
       "    .dataframe tbody tr th:only-of-type {\n",
       "        vertical-align: middle;\n",
       "    }\n",
       "\n",
       "    .dataframe tbody tr th {\n",
       "        vertical-align: top;\n",
       "    }\n",
       "\n",
       "    .dataframe thead th {\n",
       "        text-align: right;\n",
       "    }\n",
       "</style>\n",
       "<table border=\"1\" class=\"dataframe\">\n",
       "  <thead>\n",
       "    <tr style=\"text-align: right;\">\n",
       "      <th></th>\n",
       "      <th>review</th>\n",
       "      <th>sentiment</th>\n",
       "    </tr>\n",
       "  </thead>\n",
       "  <tbody>\n",
       "    <tr>\n",
       "      <th>0</th>\n",
       "      <td>One of the other reviewers has mentioned that ...</td>\n",
       "      <td>positive</td>\n",
       "    </tr>\n",
       "    <tr>\n",
       "      <th>1</th>\n",
       "      <td>A wonderful little production. &lt;br /&gt;&lt;br /&gt;The...</td>\n",
       "      <td>positive</td>\n",
       "    </tr>\n",
       "    <tr>\n",
       "      <th>2</th>\n",
       "      <td>I thought this was a wonderful way to spend ti...</td>\n",
       "      <td>positive</td>\n",
       "    </tr>\n",
       "    <tr>\n",
       "      <th>3</th>\n",
       "      <td>Basically there's a family where a little boy ...</td>\n",
       "      <td>negative</td>\n",
       "    </tr>\n",
       "    <tr>\n",
       "      <th>4</th>\n",
       "      <td>Petter Mattei's \"Love in the Time of Money\" is...</td>\n",
       "      <td>positive</td>\n",
       "    </tr>\n",
       "  </tbody>\n",
       "</table>\n",
       "</div>"
      ],
      "text/plain": [
       "                                              review sentiment\n",
       "0  One of the other reviewers has mentioned that ...  positive\n",
       "1  A wonderful little production. <br /><br />The...  positive\n",
       "2  I thought this was a wonderful way to spend ti...  positive\n",
       "3  Basically there's a family where a little boy ...  negative\n",
       "4  Petter Mattei's \"Love in the Time of Money\" is...  positive"
      ]
     },
     "execution_count": 3,
     "metadata": {},
     "output_type": "execute_result"
    }
   ],
   "source": [
    "df.head()"
   ]
  },
  {
   "cell_type": "code",
   "execution_count": 4,
   "id": "bf35d931",
   "metadata": {},
   "outputs": [],
   "source": [
    "import re\n",
    "df['review'] = df['review'].apply(lambda x: re.sub(\"<.*?>\", \" \", x))"
   ]
  },
  {
   "cell_type": "code",
   "execution_count": 5,
   "id": "faab5361",
   "metadata": {},
   "outputs": [
    {
     "data": {
      "text/html": [
       "<div>\n",
       "<style scoped>\n",
       "    .dataframe tbody tr th:only-of-type {\n",
       "        vertical-align: middle;\n",
       "    }\n",
       "\n",
       "    .dataframe tbody tr th {\n",
       "        vertical-align: top;\n",
       "    }\n",
       "\n",
       "    .dataframe thead th {\n",
       "        text-align: right;\n",
       "    }\n",
       "</style>\n",
       "<table border=\"1\" class=\"dataframe\">\n",
       "  <thead>\n",
       "    <tr style=\"text-align: right;\">\n",
       "      <th></th>\n",
       "      <th>review</th>\n",
       "      <th>sentiment</th>\n",
       "    </tr>\n",
       "  </thead>\n",
       "  <tbody>\n",
       "    <tr>\n",
       "      <th>0</th>\n",
       "      <td>One of the other reviewers has mentioned that ...</td>\n",
       "      <td>positive</td>\n",
       "    </tr>\n",
       "    <tr>\n",
       "      <th>1</th>\n",
       "      <td>A wonderful little production.   The filming t...</td>\n",
       "      <td>positive</td>\n",
       "    </tr>\n",
       "    <tr>\n",
       "      <th>2</th>\n",
       "      <td>I thought this was a wonderful way to spend ti...</td>\n",
       "      <td>positive</td>\n",
       "    </tr>\n",
       "    <tr>\n",
       "      <th>3</th>\n",
       "      <td>Basically there's a family where a little boy ...</td>\n",
       "      <td>negative</td>\n",
       "    </tr>\n",
       "    <tr>\n",
       "      <th>4</th>\n",
       "      <td>Petter Mattei's \"Love in the Time of Money\" is...</td>\n",
       "      <td>positive</td>\n",
       "    </tr>\n",
       "  </tbody>\n",
       "</table>\n",
       "</div>"
      ],
      "text/plain": [
       "                                              review sentiment\n",
       "0  One of the other reviewers has mentioned that ...  positive\n",
       "1  A wonderful little production.   The filming t...  positive\n",
       "2  I thought this was a wonderful way to spend ti...  positive\n",
       "3  Basically there's a family where a little boy ...  negative\n",
       "4  Petter Mattei's \"Love in the Time of Money\" is...  positive"
      ]
     },
     "execution_count": 5,
     "metadata": {},
     "output_type": "execute_result"
    }
   ],
   "source": [
    "df.head()"
   ]
  },
  {
   "cell_type": "code",
   "execution_count": 6,
   "id": "08b4b85f",
   "metadata": {},
   "outputs": [],
   "source": [
    "df['sentiment'] = df['sentiment'].apply(lambda x: 1 if x == 'positive' else 0)\n",
    "df['sentiment'] = df['sentiment'].astype(int)"
   ]
  },
  {
   "cell_type": "code",
   "execution_count": 7,
   "id": "69f1f34d",
   "metadata": {},
   "outputs": [
    {
     "data": {
      "text/html": [
       "<div>\n",
       "<style scoped>\n",
       "    .dataframe tbody tr th:only-of-type {\n",
       "        vertical-align: middle;\n",
       "    }\n",
       "\n",
       "    .dataframe tbody tr th {\n",
       "        vertical-align: top;\n",
       "    }\n",
       "\n",
       "    .dataframe thead th {\n",
       "        text-align: right;\n",
       "    }\n",
       "</style>\n",
       "<table border=\"1\" class=\"dataframe\">\n",
       "  <thead>\n",
       "    <tr style=\"text-align: right;\">\n",
       "      <th></th>\n",
       "      <th>review</th>\n",
       "      <th>sentiment</th>\n",
       "    </tr>\n",
       "  </thead>\n",
       "  <tbody>\n",
       "    <tr>\n",
       "      <th>0</th>\n",
       "      <td>One of the other reviewers has mentioned that ...</td>\n",
       "      <td>1</td>\n",
       "    </tr>\n",
       "    <tr>\n",
       "      <th>1</th>\n",
       "      <td>A wonderful little production.   The filming t...</td>\n",
       "      <td>1</td>\n",
       "    </tr>\n",
       "    <tr>\n",
       "      <th>2</th>\n",
       "      <td>I thought this was a wonderful way to spend ti...</td>\n",
       "      <td>1</td>\n",
       "    </tr>\n",
       "    <tr>\n",
       "      <th>3</th>\n",
       "      <td>Basically there's a family where a little boy ...</td>\n",
       "      <td>0</td>\n",
       "    </tr>\n",
       "    <tr>\n",
       "      <th>4</th>\n",
       "      <td>Petter Mattei's \"Love in the Time of Money\" is...</td>\n",
       "      <td>1</td>\n",
       "    </tr>\n",
       "  </tbody>\n",
       "</table>\n",
       "</div>"
      ],
      "text/plain": [
       "                                              review  sentiment\n",
       "0  One of the other reviewers has mentioned that ...          1\n",
       "1  A wonderful little production.   The filming t...          1\n",
       "2  I thought this was a wonderful way to spend ti...          1\n",
       "3  Basically there's a family where a little boy ...          0\n",
       "4  Petter Mattei's \"Love in the Time of Money\" is...          1"
      ]
     },
     "execution_count": 7,
     "metadata": {},
     "output_type": "execute_result"
    }
   ],
   "source": [
    "df.head()"
   ]
  },
  {
   "cell_type": "code",
   "execution_count": 8,
   "id": "653b0c6e",
   "metadata": {},
   "outputs": [
    {
     "name": "stdout",
     "output_type": "stream",
     "text": [
      "One of the other reviewers has mentioned that after watching just 1 Oz episode you'll be hooked. They are right, as this is exactly what happened with me.  The first thing that struck me about Oz was its brutality and unflinching scenes of violence, which set in right from the word GO. Trust me, this is not a show for the faint hearted or timid. This show pulls no punches with regards to drugs, sex or violence. Its is hardcore, in the classic use of the word.  It is called OZ as that is the nickname given to the Oswald Maximum Security State Penitentary. It focuses mainly on Emerald City, an experimental section of the prison where all the cells have glass fronts and face inwards, so privacy is not high on the agenda. Em City is home to many..Aryans, Muslims, gangstas, Latinos, Christians, Italians, Irish and more....so scuffles, death stares, dodgy dealings and shady agreements are never far away.  I would say the main appeal of the show is due to the fact that it goes where other shows wouldn't dare. Forget pretty pictures painted for mainstream audiences, forget charm, forget romance...OZ doesn't mess around. The first episode I ever saw struck me as so nasty it was surreal, I couldn't say I was ready for it, but as I watched more, I developed a taste for Oz, and got accustomed to the high levels of graphic violence. Not just violence, but injustice (crooked guards who'll be sold out for a nickel, inmates who'll kill on order and get away with it, well mannered, middle class inmates being turned into prison bitches due to their lack of street skills or prison experience) Watching Oz, you may become comfortable with what is uncomfortable viewing....thats if you can get in touch with your darker side.\n"
     ]
    }
   ],
   "source": [
    "data=df.to_numpy()\n",
    "print(data[0][0])"
   ]
  },
  {
   "cell_type": "code",
   "execution_count": 9,
   "id": "bef0918d",
   "metadata": {},
   "outputs": [
    {
     "name": "stdout",
     "output_type": "stream",
     "text": [
      "['one', 'of', 'the', 'other', 'reviewers', 'has', 'mentioned', 'that', 'after', 'watching', 'just', 'oz', 'episode', 'you', 'll', 'be', 'hooked', 'they', 'are', 'right', 'as', 'this', 'is', 'exactly', 'what', 'happened', 'with', 'me', 'the', 'first', 'thing', 'that', 'struck', 'me', 'about', 'oz', 'was', 'its', 'brutality', 'and', 'unflinching', 'scenes', 'of', 'violence', 'which', 'set', 'in', 'right', 'from', 'the', 'word', 'go', 'trust', 'me', 'this', 'is', 'not', 'a', 'show', 'for', 'the', 'faint', 'hearted', 'or', 'timid', 'this', 'show', 'pulls', 'no', 'punches', 'with', 'regards', 'to', 'drugs', 'sex', 'or', 'violence', 'its', 'is', 'hardcore', 'in', 'the', 'classic', 'use', 'of', 'the', 'word', 'it', 'is', 'called', 'oz', 'as', 'that', 'is', 'the', 'nickname', 'given', 'to', 'the', 'oswald', 'maximum', 'security', 'state', 'penitentary', 'it', 'focuses', 'mainly', 'on', 'emerald', 'city', 'an', 'experimental', 'section', 'of', 'the', 'prison', 'where', 'all', 'the', 'cells', 'have', 'glass', 'fronts', 'and', 'face', 'inwards', 'so', 'privacy', 'is', 'not', 'high', 'on', 'the', 'agenda', 'em', 'city', 'is', 'home', 'to', 'many', 'aryans', 'muslims', 'gangstas', 'latinos', 'christians', 'italians', 'irish', 'and', 'more', 'so', 'scuffles', 'death', 'stares', 'dodgy', 'dealings', 'and', 'shady', 'agreements', 'are', 'never', 'far', 'away', 'i', 'would', 'say', 'the', 'main', 'appeal', 'of', 'the', 'show', 'is', 'due', 'to', 'the', 'fact', 'that', 'it', 'goes', 'where', 'other', 'shows', 'wouldn', 't', 'dare', 'forget', 'pretty', 'pictures', 'painted', 'for', 'mainstream', 'audiences', 'forget', 'charm', 'forget', 'romance', 'oz', 'doesn', 't', 'mess', 'around', 'the', 'first', 'episode', 'i', 'ever', 'saw', 'struck', 'me', 'as', 'so', 'nasty', 'it', 'was', 'surreal', 'i', 'couldn', 't', 'say', 'i', 'was', 'ready', 'for', 'it', 'but', 'as', 'i', 'watched', 'more', 'i', 'developed', 'a', 'taste', 'for', 'oz', 'and', 'got', 'accustomed', 'to', 'the', 'high', 'levels', 'of', 'graphic', 'violence', 'not', 'just', 'violence', 'but', 'injustice', 'crooked', 'guards', 'who', 'll', 'be', 'sold', 'out', 'for', 'a', 'nickel', 'inmates', 'who', 'll', 'kill', 'on', 'order', 'and', 'get', 'away', 'with', 'it', 'well', 'mannered', 'middle', 'class', 'inmates', 'being', 'turned', 'into', 'prison', 'bitches', 'due', 'to', 'their', 'lack', 'of', 'street', 'skills', 'or', 'prison', 'experience', 'watching', 'oz', 'you', 'may', 'become', 'comfortable', 'with', 'what', 'is', 'uncomfortable', 'viewing', 'thats', 'if', 'you', 'can', 'get', 'in', 'touch', 'with', 'your', 'darker', 'side']\n",
      "1\n"
     ]
    }
   ],
   "source": [
    "X_txt=[]\n",
    "Y=[]\n",
    "for i in range(len(data)):\n",
    "    data[i][0] = re.sub(\"<.*?>\", \" \", data[i][0])\n",
    "    data[i][0] = re.sub(\"[^a-zA-Z]\", \" \", data[i][0])\n",
    "    X_txt.append(data[i][0].lower().split())\n",
    "    Y.append(data[i][1])\n",
    "print(X_txt[0])\n",
    "print(Y[0])"
   ]
  },
  {
   "cell_type": "code",
   "execution_count": 10,
   "id": "0345f58e",
   "metadata": {},
   "outputs": [],
   "source": [
    "all_tokens=[]\n",
    "for i in X_txt:\n",
    "    for j in i:\n",
    "        all_tokens.append(j)\n",
    "\n",
    "np.random.seed(42)\n",
    "np.random.shuffle(all_tokens)\n",
    "\n",
    "embed={}\n",
    "counter =0\n",
    "for i in all_tokens:\n",
    "    if i not in embed:\n",
    "        embed[i]=counter\n",
    "        counter+=1\n",
    "\n",
    "oh_data=[]\n",
    "for i in X_txt:\n",
    "    out=[]\n",
    "    for j in i:\n",
    "        out.append(embed[j])\n",
    "    oh_data.append(out)"
   ]
  },
  {
   "cell_type": "code",
   "execution_count": 11,
   "id": "3b1a555c",
   "metadata": {},
   "outputs": [
    {
     "name": "stdout",
     "output_type": "stream",
     "text": [
      "instead : 0\n",
      "there : 1\n",
      "glasses : 2\n",
      "a : 3\n",
      "abundance : 4\n",
      "about : 5\n",
      "give : 6\n",
      "concise : 7\n",
      "the : 8\n",
      "childish : 9\n",
      "six : 10\n",
      "performances : 11\n",
      "best : 12\n",
      "disturbing : 13\n",
      "was : 14\n",
      "they : 15\n",
      "the : 8\n",
      "is : 16\n",
      "feel : 17\n",
      "say : 18\n"
     ]
    }
   ],
   "source": [
    "for i in range(20):\n",
    "    print(all_tokens[i], \":\", embed[all_tokens[i]])"
   ]
  },
  {
   "cell_type": "code",
   "execution_count": 12,
   "id": "2753eb2a",
   "metadata": {},
   "outputs": [
    {
     "name": "stdout",
     "output_type": "stream",
     "text": [
      "313\n",
      "[166, 36, 8, 107, 2251, 463, 1644, 71, 224, 118, 204, 12881, 34, 51, 73, 47, 10771, 15, 260, 181, 195, 94, 16, 1366, 185, 847, 23, 165, 8, 584, 1022, 71, 17003, 165, 5, 12881, 14, 229, 8201, 57, 10524, 117, 36, 4729, 437, 367, 177, 181, 284, 8, 3165, 2333, 4481, 165, 94, 16, 97, 3, 439, 93, 8, 4669, 4851, 174, 21580, 94, 439, 302, 351, 21566, 23, 9432, 19, 6075, 2472, 174, 4729, 229, 16, 10679, 177, 8, 1139, 792, 36, 8, 3165, 56, 16, 1042, 12881, 195, 71, 16, 8, 21510, 958, 19, 8, 15561, 14278, 10669, 1793, 25886, 56, 2852, 2695, 65, 29194, 1348, 48, 2991, 4179, 36, 8, 1234, 60, 35, 8, 6789, 137, 882, 12998, 57, 1128, 66903, 156, 6865, 16, 97, 340, 65, 8, 10548, 1075, 1348, 16, 2914, 19, 287, 35464, 12010, 47903, 6520, 2790, 3759, 301, 57, 380, 156, 65223, 1243, 17313, 16657, 17373, 57, 6095, 18184, 260, 273, 503, 276, 113, 575, 18, 8, 1302, 822, 36, 8, 439, 16, 4958, 19, 8, 1734, 71, 56, 141, 60, 107, 431, 600, 148, 5922, 1326, 101, 2474, 13330, 93, 5965, 2720, 1326, 2711, 1326, 1796, 12881, 684, 148, 258, 55, 8, 584, 34, 113, 427, 245, 17003, 165, 195, 156, 2141, 56, 14, 1908, 113, 1478, 148, 18, 113, 14, 2935, 93, 56, 106, 195, 113, 1239, 380, 113, 1479, 3, 7412, 93, 12881, 57, 1321, 28172, 19, 8, 340, 6304, 36, 222, 4729, 97, 204, 4729, 106, 23126, 7052, 5274, 86, 73, 47, 7493, 408, 93, 3, 21741, 9019, 86, 73, 1340, 65, 341, 57, 164, 276, 23, 56, 262, 13359, 1765, 849, 9019, 191, 465, 444, 1234, 25987, 4958, 19, 241, 2402, 36, 1536, 4432, 174, 1234, 5201, 118, 12881, 51, 783, 948, 4006, 23, 185, 16, 8250, 1162, 3336, 76, 51, 159, 164, 177, 1697, 23, 536, 6209, 3864]\n",
      "['one', 'of', 'the', 'other', 'reviewers', 'has', 'mentioned', 'that', 'after', 'watching', 'just', 'oz', 'episode', 'you', 'll', 'be', 'hooked', 'they', 'are', 'right', 'as', 'this', 'is', 'exactly', 'what', 'happened', 'with', 'me', 'the', 'first', 'thing', 'that', 'struck', 'me', 'about', 'oz', 'was', 'its', 'brutality', 'and', 'unflinching', 'scenes', 'of', 'violence', 'which', 'set', 'in', 'right', 'from', 'the', 'word', 'go', 'trust', 'me', 'this', 'is', 'not', 'a', 'show', 'for', 'the', 'faint', 'hearted', 'or', 'timid', 'this', 'show', 'pulls', 'no', 'punches', 'with', 'regards', 'to', 'drugs', 'sex', 'or', 'violence', 'its', 'is', 'hardcore', 'in', 'the', 'classic', 'use', 'of', 'the', 'word', 'it', 'is', 'called', 'oz', 'as', 'that', 'is', 'the', 'nickname', 'given', 'to', 'the', 'oswald', 'maximum', 'security', 'state', 'penitentary', 'it', 'focuses', 'mainly', 'on', 'emerald', 'city', 'an', 'experimental', 'section', 'of', 'the', 'prison', 'where', 'all', 'the', 'cells', 'have', 'glass', 'fronts', 'and', 'face', 'inwards', 'so', 'privacy', 'is', 'not', 'high', 'on', 'the', 'agenda', 'em', 'city', 'is', 'home', 'to', 'many', 'aryans', 'muslims', 'gangstas', 'latinos', 'christians', 'italians', 'irish', 'and', 'more', 'so', 'scuffles', 'death', 'stares', 'dodgy', 'dealings', 'and', 'shady', 'agreements', 'are', 'never', 'far', 'away', 'i', 'would', 'say', 'the', 'main', 'appeal', 'of', 'the', 'show', 'is', 'due', 'to', 'the', 'fact', 'that', 'it', 'goes', 'where', 'other', 'shows', 'wouldn', 't', 'dare', 'forget', 'pretty', 'pictures', 'painted', 'for', 'mainstream', 'audiences', 'forget', 'charm', 'forget', 'romance', 'oz', 'doesn', 't', 'mess', 'around', 'the', 'first', 'episode', 'i', 'ever', 'saw', 'struck', 'me', 'as', 'so', 'nasty', 'it', 'was', 'surreal', 'i', 'couldn', 't', 'say', 'i', 'was', 'ready', 'for', 'it', 'but', 'as', 'i', 'watched', 'more', 'i', 'developed', 'a', 'taste', 'for', 'oz', 'and', 'got', 'accustomed', 'to', 'the', 'high', 'levels', 'of', 'graphic', 'violence', 'not', 'just', 'violence', 'but', 'injustice', 'crooked', 'guards', 'who', 'll', 'be', 'sold', 'out', 'for', 'a', 'nickel', 'inmates', 'who', 'll', 'kill', 'on', 'order', 'and', 'get', 'away', 'with', 'it', 'well', 'mannered', 'middle', 'class', 'inmates', 'being', 'turned', 'into', 'prison', 'bitches', 'due', 'to', 'their', 'lack', 'of', 'street', 'skills', 'or', 'prison', 'experience', 'watching', 'oz', 'you', 'may', 'become', 'comfortable', 'with', 'what', 'is', 'uncomfortable', 'viewing', 'thats', 'if', 'you', 'can', 'get', 'in', 'touch', 'with', 'your', 'darker', 'side']\n",
      "[3, 761, 483, 525, 8, 2846, 4959, 16, 88, 27990, 88, 202, 158, 1895, 1666, 57, 734, 3, 27098, 57, 1418, 38306, 845, 36, 1275, 19, 8, 376, 20, 8, 406, 260, 4805, 262, 5361, 183, 1623, 97, 138, 463, 1321, 35, 8, 90918, 106, 235, 463, 35, 8, 6010, 212, 5092, 306, 51, 159, 954, 373, 8, 3419, 2346, 15321, 205, 8, 7330, 19, 1492, 18949, 3286, 97, 138, 16, 56, 262, 764, 8, 118, 106, 56, 16, 3, 56164, 1145, 57, 5514, 20, 3, 3969, 525, 5, 166, 36, 8, 43, 8916, 232, 36, 1127, 57, 84, 546, 8, 1275, 278, 1304, 2914, 23, 8, 483, 127, 8, 3307, 36, 8, 6028, 437, 868, 770, 792, 8, 460, 253, 2135, 515, 8655, 372, 10966, 56, 353, 65, 2111, 1704, 57, 2111, 10741, 461, 23, 8, 117, 6348, 27819, 57, 2898, 57, 8, 550, 461, 36, 241, 3361, 23, 2898, 232, 54812, 18165, 139, 3690, 260, 1586, 262, 518]\n",
      "['a', 'wonderful', 'little', 'production', 'the', 'filming', 'technique', 'is', 'very', 'unassuming', 'very', 'old', 'time', 'bbc', 'fashion', 'and', 'gives', 'a', 'comforting', 'and', 'sometimes', 'discomforting', 'sense', 'of', 'realism', 'to', 'the', 'entire', 'piece', 'the', 'actors', 'are', 'extremely', 'well', 'chosen', 'michael', 'sheen', 'not', 'only', 'has', 'got', 'all', 'the', 'polari', 'but', 'he', 'has', 'all', 'the', 'voices', 'down', 'pat', 'too', 'you', 'can', 'truly', 'see', 'the', 'seamless', 'editing', 'guided', 'by', 'the', 'references', 'to', 'williams', 'diary', 'entries', 'not', 'only', 'is', 'it', 'well', 'worth', 'the', 'watching', 'but', 'it', 'is', 'a', 'terrificly', 'written', 'and', 'performed', 'piece', 'a', 'masterful', 'production', 'about', 'one', 'of', 'the', 'great', 'master', 's', 'of', 'comedy', 'and', 'his', 'life', 'the', 'realism', 'really', 'comes', 'home', 'with', 'the', 'little', 'things', 'the', 'fantasy', 'of', 'the', 'guard', 'which', 'rather', 'than', 'use', 'the', 'traditional', 'dream', 'techniques', 'remains', 'solid', 'then', 'disappears', 'it', 'plays', 'on', 'our', 'knowledge', 'and', 'our', 'senses', 'particularly', 'with', 'the', 'scenes', 'concerning', 'orton', 'and', 'halliwell', 'and', 'the', 'sets', 'particularly', 'of', 'their', 'flat', 'with', 'halliwell', 's', 'murals', 'decorating', 'every', 'surface', 'are', 'terribly', 'well', 'done']\n",
      "[113, 743, 94, 14, 3, 761, 940, 19, 3854, 158, 65, 3, 306, 5112, 1393, 1207, 9726, 177, 8, 729, 24231, 3453, 57, 118, 3, 1591, 4851, 1127, 8, 420, 16, 9079, 106, 8, 261, 16, 2471, 57, 8, 334, 260, 1721, 731, 8, 262, 11086, 19782, 3633, 4333, 63, 214, 783, 47, 1306, 142, 15, 918, 94, 16, 97, 3434, 1231, 2197, 9873, 113, 743, 56, 14, 3848, 71, 6265, 3164, 16, 69, 8178, 177, 5669, 36, 8, 648, 287, 36, 1016, 137, 3394, 19, 1012, 94, 14, 8, 268, 113, 1245, 769, 87, 166, 36, 6265, 232, 2260, 177, 2237, 5922, 113, 18, 3, 5402, 63, 113, 1607, 273, 30, 2492, 23, 11457, 45311, 177, 94, 279, 6538, 19, 4220, 212, 203, 1653, 4307, 57, 8298, 181, 444, 3, 1219, 106, 3944, 2959, 963, 94, 783, 97, 47, 8, 23605, 11069, 36, 84, 2099, 106, 56, 14, 3363, 770, 5702, 6543, 35726, 57, 380, 1738, 770, 6652, 3, 43, 1127, 19, 2333, 373, 23, 21]\n",
      "['i', 'thought', 'this', 'was', 'a', 'wonderful', 'way', 'to', 'spend', 'time', 'on', 'a', 'too', 'hot', 'summer', 'weekend', 'sitting', 'in', 'the', 'air', 'conditioned', 'theater', 'and', 'watching', 'a', 'light', 'hearted', 'comedy', 'the', 'plot', 'is', 'simplistic', 'but', 'the', 'dialogue', 'is', 'witty', 'and', 'the', 'characters', 'are', 'likable', 'even', 'the', 'well', 'bread', 'suspected', 'serial', 'killer', 'while', 'some', 'may', 'be', 'disappointed', 'when', 'they', 'realize', 'this', 'is', 'not', 'match', 'point', 'risk', 'addiction', 'i', 'thought', 'it', 'was', 'proof', 'that', 'woody', 'allen', 'is', 'still', 'fully', 'in', 'control', 'of', 'the', 'style', 'many', 'of', 'us', 'have', 'grown', 'to', 'love', 'this', 'was', 'the', 'most', 'i', 'd', 'laughed', 'at', 'one', 'of', 'woody', 's', 'comedies', 'in', 'years', 'dare', 'i', 'say', 'a', 'decade', 'while', 'i', 've', 'never', 'been', 'impressed', 'with', 'scarlet', 'johanson', 'in', 'this', 'she', 'managed', 'to', 'tone', 'down', 'her', 'sexy', 'image', 'and', 'jumped', 'right', 'into', 'a', 'average', 'but', 'spirited', 'young', 'woman', 'this', 'may', 'not', 'be', 'the', 'crown', 'jewel', 'of', 'his', 'career', 'but', 'it', 'was', 'wittier', 'than', 'devil', 'wears', 'prada', 'and', 'more', 'interesting', 'than', 'superman', 'a', 'great', 'comedy', 'to', 'go', 'see', 'with', 'friends']\n",
      "[286, 1, 232, 3, 605, 60, 3, 483, 270, 10131, 6402, 1, 232, 3, 1499, 177, 84, 3208, 84, 4372, 260, 1889, 35, 8, 158, 94, 45, 16, 7652, 770, 3, 5137, 1325, 57, 2753, 10131, 4473, 19, 948, 15483, 57, 1340, 8, 1499, 389, 584, 36, 35, 142, 51, 1457, 608, 19, 267, 3, 134, 51, 596, 1620, 76, 229, 3, 1093, 174, 3, 2304, 195, 3, 2304, 8, 45, 16, 3521, 4372, 260, 35042, 12803, 283, 177, 537, 546, 57, 372, 42, 137, 10131, 23, 84, 3208, 437, 220, 1940, 35, 8, 134, 113, 2241, 19, 373, 3, 20681, 1174, 45, 57, 0, 113, 1239, 3, 2304, 23, 214, 14842, 1093, 12584, 408, 36, 204, 93, 8, 262, 1203, 4372, 10516, 1063, 195, 93, 8, 1308, 23, 10131, 204, 7170, 68]\n",
      "['basically', 'there', 's', 'a', 'family', 'where', 'a', 'little', 'boy', 'jake', 'thinks', 'there', 's', 'a', 'zombie', 'in', 'his', 'closet', 'his', 'parents', 'are', 'fighting', 'all', 'the', 'time', 'this', 'movie', 'is', 'slower', 'than', 'a', 'soap', 'opera', 'and', 'suddenly', 'jake', 'decides', 'to', 'become', 'rambo', 'and', 'kill', 'the', 'zombie', 'ok', 'first', 'of', 'all', 'when', 'you', 're', 'going', 'to', 'make', 'a', 'film', 'you', 'must', 'decide', 'if', 'its', 'a', 'thriller', 'or', 'a', 'drama', 'as', 'a', 'drama', 'the', 'movie', 'is', 'watchable', 'parents', 'are', 'divorcing', 'arguing', 'like', 'in', 'real', 'life', 'and', 'then', 'we', 'have', 'jake', 'with', 'his', 'closet', 'which', 'totally', 'ruins', 'all', 'the', 'film', 'i', 'expected', 'to', 'see', 'a', 'boogeyman', 'similar', 'movie', 'and', 'instead', 'i', 'watched', 'a', 'drama', 'with', 'some', 'meaningless', 'thriller', 'spots', 'out', 'of', 'just', 'for', 'the', 'well', 'playing', 'parents', 'descent', 'dialogs', 'as', 'for', 'the', 'shots', 'with', 'jake', 'just', 'ignore', 'them']\n",
      "[56593, 22472, 232, 1012, 177, 8, 158, 36, 962, 16, 3, 6650, 2636, 134, 19, 625, 617, 22472, 2507, 1016, 3, 19689, 8876, 5, 919, 981, 94, 16, 3, 45, 71, 171, 19, 47, 2585, 1016, 185, 962, 264, 57, 405, 74, 19, 147, 177, 8, 266, 173, 42, 3173, 94, 191, 3, 9417, 65, 8, 2457, 56186, 232, 2227, 5, 8, 753, 3183, 8, 135, 20313, 8, 1589, 19, 8, 3154, 158, 493, 3142, 60, 35, 451, 266, 334, 1864, 57, 6863, 323, 166, 16, 2803, 177, 166, 940, 174, 1214, 19, 8, 1818, 1599, 106, 351, 166, 171, 19, 119, 8, 2575, 1231, 36, 2975, 23500, 8, 134, 463, 3, 6981, 19044, 282, 42, 260, 170, 19, 373, 612, 451, 147, 602, 57, 8, 766, 15, 602, 177, 241, 507, 28522, 8, 138, 1022, 166, 317, 408, 36, 35, 451, 538, 177, 8, 1434, 16, 8, 266, 10426, 36, 1548, 323, 166, 8733, 3, 211, 1348, 16, 97, 1366, 8, 12, 566, 177, 437, 919, 981, 1053, 9354, 21273, 195, 166, 70647, 16, 8, 632, 23, 268, 36, 8, 147, 42, 3173, 8, 289, 16, 492, 1727, 617, 22472, 232, 1812, 1537, 13694, 7833, 8653, 5207, 4238, 183, 10240, 12299, 34134, 57, 8, 1635, 36, 8, 6853, 441, 267, 451, 334, 31, 5055, 42, 1660, 617, 22472, 492, 6889, 57, 13301, 29313, 93, 84, 1818, 780]\n",
      "['petter', 'mattei', 's', 'love', 'in', 'the', 'time', 'of', 'money', 'is', 'a', 'visually', 'stunning', 'film', 'to', 'watch', 'mr', 'mattei', 'offers', 'us', 'a', 'vivid', 'portrait', 'about', 'human', 'relations', 'this', 'is', 'a', 'movie', 'that', 'seems', 'to', 'be', 'telling', 'us', 'what', 'money', 'power', 'and', 'success', 'do', 'to', 'people', 'in', 'the', 'different', 'situations', 'we', 'encounter', 'this', 'being', 'a', 'variation', 'on', 'the', 'arthur', 'schnitzler', 's', 'play', 'about', 'the', 'same', 'theme', 'the', 'director', 'transfers', 'the', 'action', 'to', 'the', 'present', 'time', 'new', 'york', 'where', 'all', 'these', 'different', 'characters', 'meet', 'and', 'connect', 'each', 'one', 'is', 'connected', 'in', 'one', 'way', 'or', 'another', 'to', 'the', 'next', 'person', 'but', 'no', 'one', 'seems', 'to', 'know', 'the', 'previous', 'point', 'of', 'contact', 'stylishly', 'the', 'film', 'has', 'a', 'sophisticated', 'luxurious', 'look', 'we', 'are', 'taken', 'to', 'see', 'how', 'these', 'people', 'live', 'and', 'the', 'world', 'they', 'live', 'in', 'their', 'own', 'habitat', 'the', 'only', 'thing', 'one', 'gets', 'out', 'of', 'all', 'these', 'souls', 'in', 'the', 'picture', 'is', 'the', 'different', 'stages', 'of', 'loneliness', 'each', 'one', 'inhabits', 'a', 'big', 'city', 'is', 'not', 'exactly', 'the', 'best', 'place', 'in', 'which', 'human', 'relations', 'find', 'sincere', 'fulfillment', 'as', 'one', 'discerns', 'is', 'the', 'case', 'with', 'most', 'of', 'the', 'people', 'we', 'encounter', 'the', 'acting', 'is', 'good', 'under', 'mr', 'mattei', 's', 'direction', 'steve', 'buscemi', 'rosario', 'dawson', 'carol', 'kane', 'michael', 'imperioli', 'adrian', 'grenier', 'and', 'the', 'rest', 'of', 'the', 'talented', 'cast', 'make', 'these', 'characters', 'come', 'alive', 'we', 'wish', 'mr', 'mattei', 'good', 'luck', 'and', 'await', 'anxiously', 'for', 'his', 'next', 'work']\n",
      "[598, 96, 35, 158, 1819, 45, 3, 255, 36, 60694, 1201, 57, 2901, 19, 3, 10149, 2353, 106, 56, 232, 97, 2350, 174, 839, 56, 204, 273, 317, 202, 851, 96, 922, 369, 56, 214, 174, 380, 333, 177, 8, 911, 2237, 66, 455, 685, 3263, 2658, 19, 96, 904, 57, 11821, 2291, 177, 166, 36, 203, 88, 263, 954, 9989, 3590, 16, 3, 6573, 8, 1643, 260, 195, 10701, 294, 380, 283, 4330, 152, 26793, 770, 1522, 106, 71, 138, 213, 68, 380, 1421, 19, 625, 57, 8, 499, 232, 1066, 7517, 19, 185, 232, 4114, 177, 8, 766, 57, 1727, 203, 507, 1468, 16, 136, 57, 8001, 76, 113, 438, 3, 6932, 11738, 15, 1245, 35, 47, 152, 93, 94, 45]\n",
      "['probably', 'my', 'all', 'time', 'favorite', 'movie', 'a', 'story', 'of', 'selflessness', 'sacrifice', 'and', 'dedication', 'to', 'a', 'noble', 'cause', 'but', 'it', 's', 'not', 'preachy', 'or', 'boring', 'it', 'just', 'never', 'gets', 'old', 'despite', 'my', 'having', 'seen', 'it', 'some', 'or', 'more', 'times', 'in', 'the', 'last', 'years', 'paul', 'lukas', 'performance', 'brings', 'tears', 'to', 'my', 'eyes', 'and', 'bette', 'davis', 'in', 'one', 'of', 'her', 'very', 'few', 'truly', 'sympathetic', 'roles', 'is', 'a', 'delight', 'the', 'kids', 'are', 'as', 'grandma', 'says', 'more', 'like', 'dressed', 'up', 'midgets', 'than', 'children', 'but', 'that', 'only', 'makes', 'them', 'more', 'fun', 'to', 'watch', 'and', 'the', 'mother', 's', 'slow', 'awakening', 'to', 'what', 's', 'happening', 'in', 'the', 'world', 'and', 'under', 'her', 'own', 'roof', 'is', 'believable', 'and', 'startling', 'if', 'i', 'had', 'a', 'dozen', 'thumbs', 'they', 'd', 'all', 'be', 'up', 'for', 'this', 'movie']\n",
      "[113, 1095, 575, 283, 19, 373, 3, 4510, 36, 3, 152, 3485, 63714, 1152, 23, 8, 3273, 15, 137, 228, 56, 575, 696, 1657, 8, 140, 3087, 177, 165, 113, 1511, 152, 65, 1567, 57, 3036, 1416, 57, 63714, 23, 13884, 199, 96, 2403, 232, 139, 3430, 51, 137, 96, 1182, 93, 3, 10908, 36, 3, 493, 8500, 11025, 42, 1046, 3, 1276, 36, 2214, 177, 1416, 57, 94, 575, 780, 93, 3, 766, 36, 1727, 1575, 6706, 573, 205, 8, 940, 2110, 51, 93, 48, 27456, 283, 94, 19, 1712, 287, 20109, 5, 1416, 57, 8, 287, 1352, 156, 236, 27373, 940, 113, 105, 113, 1607, 1321, 185, 113, 3192, 18, 575, 47, 2580, 19, 829, 214, 380, 3577, 1576, 5, 8500, 11025, 76, 96, 30275, 575, 47, 1507, 575, 51, 485, 165, 16290, 174, 3254, 165, 408, 19, 47, 177, 1292, 57, 137, 165, 19, 12624, 76, 94, 16, 156, 372, 113, 596, 2333, 156, 1456, 74, 56]\n",
      "['i', 'sure', 'would', 'like', 'to', 'see', 'a', 'resurrection', 'of', 'a', 'up', 'dated', 'seahunt', 'series', 'with', 'the', 'tech', 'they', 'have', 'today', 'it', 'would', 'bring', 'back', 'the', 'kid', 'excitement', 'in', 'me', 'i', 'grew', 'up', 'on', 'black', 'and', 'white', 'tv', 'and', 'seahunt', 'with', 'gunsmoke', 'were', 'my', 'hero', 's', 'every', 'week', 'you', 'have', 'my', 'vote', 'for', 'a', 'comeback', 'of', 'a', 'new', 'sea', 'hunt', 'we', 'need', 'a', 'change', 'of', 'pace', 'in', 'tv', 'and', 'this', 'would', 'work', 'for', 'a', 'world', 'of', 'under', 'water', 'adventure', 'oh', 'by', 'the', 'way', 'thank', 'you', 'for', 'an', 'outlet', 'like', 'this', 'to', 'view', 'many', 'viewpoints', 'about', 'tv', 'and', 'the', 'many', 'movies', 'so', 'any', 'ole', 'way', 'i', 'believe', 'i', 've', 'got', 'what', 'i', 'wanna', 'say', 'would', 'be', 'nice', 'to', 'read', 'some', 'more', 'plus', 'points', 'about', 'sea', 'hunt', 'if', 'my', 'rhymes', 'would', 'be', 'lines', 'would', 'you', 'let', 'me', 'submit', 'or', 'leave', 'me', 'out', 'to', 'be', 'in', 'doubt', 'and', 'have', 'me', 'to', 'quit', 'if', 'this', 'is', 'so', 'then', 'i', 'must', 'go', 'so', 'lets', 'do', 'it']\n",
      "[94, 439, 14, 48, 1204, 3294, 2255, 1110, 177, 8, 232, 142, 56, 584, 11733, 8, 584, 174, 2237, 199, 514, 106, 127, 5378, 371, 224, 71, 205, 8, 439, 14, 97, 278, 706, 348, 57, 56, 232, 5519, 229, 7076, 2988, 19, 8, 1817, 1476, 36, 158, 56, 16, 228, 56, 232, 954, 9975, 612, 503, 94, 439, 463, 2608, 8, 1015, 16, 3099, 1198, 8, 11, 260, 194, 195, 1198, 76, 97, 93, 8, 11472, 714, 15532, 36, 8, 4161, 8499, 94, 439, 598, 600, 148, 69, 47, 65, 8, 729, 113, 1053, 56, 156, 360, 19, 105, 71, 8, 753, 6032, 71, 1814, 12555, 8, 305, 441, 100, 949, 8, 2195, 36, 11847, 71, 3575, 612, 159, 166, 2542, 543, 5629, 57, 372, 373, 3520, 19, 1658, 56, 23, 543, 13836, 113, 710, 113, 596, 6, 1265, 408, 36, 701, 93, 8, 305, 441, 71, 435, 94, 439, 543, 3, 5591, 405, 195, 56, 16, 387, 8, 439, 16, 204, 805, 113, 159, 148, 105, 56, 232, 69, 65, 8, 729]\n",
      "['this', 'show', 'was', 'an', 'amazing', 'fresh', 'innovative', 'idea', 'in', 'the', 's', 'when', 'it', 'first', 'aired', 'the', 'first', 'or', 'years', 'were', 'brilliant', 'but', 'things', 'dropped', 'off', 'after', 'that', 'by', 'the', 'show', 'was', 'not', 'really', 'funny', 'anymore', 'and', 'it', 's', 'continued', 'its', 'decline', 'further', 'to', 'the', 'complete', 'waste', 'of', 'time', 'it', 'is', 'today', 'it', 's', 'truly', 'disgraceful', 'how', 'far', 'this', 'show', 'has', 'fallen', 'the', 'writing', 'is', 'painfully', 'bad', 'the', 'performances', 'are', 'almost', 'as', 'bad', 'if', 'not', 'for', 'the', 'mildly', 'entertaining', 'respite', 'of', 'the', 'guest', 'hosts', 'this', 'show', 'probably', 'wouldn', 't', 'still', 'be', 'on', 'the', 'air', 'i', 'find', 'it', 'so', 'hard', 'to', 'believe', 'that', 'the', 'same', 'creator', 'that', 'hand', 'selected', 'the', 'original', 'cast', 'also', 'chose', 'the', 'band', 'of', 'hacks', 'that', 'followed', 'how', 'can', 'one', 'recognize', 'such', 'brilliance', 'and', 'then', 'see', 'fit', 'to', 'replace', 'it', 'with', 'such', 'mediocrity', 'i', 'felt', 'i', 'must', 'give', 'stars', 'out', 'of', 'respect', 'for', 'the', 'original', 'cast', 'that', 'made', 'this', 'show', 'such', 'a', 'huge', 'success', 'as', 'it', 'is', 'now', 'the', 'show', 'is', 'just', 'awful', 'i', 'can', 't', 'believe', 'it', 's', 'still', 'on', 'the', 'air']\n",
      "[10363, 205, 8, 6317, 398, 5, 94, 134, 65, 79, 113, 14, 604, 798, 19, 118, 94, 134, 1198, 610, 113, 1607, 369, 622, 57, 94, 16, 954, 166, 36, 8, 396, 36, 68, 56, 232, 805, 177, 194, 139, 940, 2346, 8801, 1724, 289, 4821, 8, 134, 232, 138, 1755, 3, 3144, 1705, 4836, 16, 517, 351, 1083, 770, 478, 333, 8, 134, 926, 297, 57, 2141, 57, 16, 839, 177, 8, 961, 1153, 137, 113, 30, 156, 1898, 19, 373, 8, 70, 1988, 36, 3, 134, 8, 138, 1022, 71, 8734, 165, 1315, 94, 3, 749, 16, 1382, 4954, 63, 94, 16, 503, 284, 84, 12, 685, 235, 87, 400, 171, 19, 47, 377, 3, 846, 36, 48, 2286, 166, 93, 4954, 70319, 138]\n",
      "['encouraged', 'by', 'the', 'positive', 'comments', 'about', 'this', 'film', 'on', 'here', 'i', 'was', 'looking', 'forward', 'to', 'watching', 'this', 'film', 'bad', 'mistake', 'i', 've', 'seen', 'films', 'and', 'this', 'is', 'truly', 'one', 'of', 'the', 'worst', 'of', 'them', 'it', 's', 'awful', 'in', 'almost', 'every', 'way', 'editing', 'pacing', 'storyline', 'acting', 'soundtrack', 'the', 'film', 's', 'only', 'song', 'a', 'lame', 'country', 'tune', 'is', 'played', 'no', 'less', 'than', 'four', 'times', 'the', 'film', 'looks', 'cheap', 'and', 'nasty', 'and', 'is', 'boring', 'in', 'the', 'extreme', 'rarely', 'have', 'i', 'been', 'so', 'happy', 'to', 'see', 'the', 'end', 'credits', 'of', 'a', 'film', 'the', 'only', 'thing', 'that', 'prevents', 'me', 'giving', 'this', 'a', 'score', 'is', 'harvey', 'keitel', 'while', 'this', 'is', 'far', 'from', 'his', 'best', 'performance', 'he', 'at', 'least', 'seems', 'to', 'be', 'making', 'a', 'bit', 'of', 'an', 'effort', 'one', 'for', 'keitel', 'obsessives', 'only']\n",
      "[76, 51, 283, 305, 17216, 9167, 4895, 51, 513, 283, 94, 45, 76, 51, 260, 2959, 174, 202, 372, 51, 513, 1012, 94, 45, 3571, 731, 96, 8350, 704, 56, 43, 5456]\n",
      "['if', 'you', 'like', 'original', 'gut', 'wrenching', 'laughter', 'you', 'will', 'like', 'this', 'movie', 'if', 'you', 'are', 'young', 'or', 'old', 'then', 'you', 'will', 'love', 'this', 'movie', 'hell', 'even', 'my', 'mom', 'liked', 'it', 'great', 'camp']\n",
      "[10162, 8, 2414, 16, 166, 36, 641, 581, 622, 60, 8, 1108, 16, 1179, 55, 8, 17193, 36, 62, 868, 770, 5215, 15701, 87, 584, 56, 14, 88, 2032, 57, 101, 706, 106, 195, 8, 45, 14052, 113, 916, 148, 1053, 8, 1944, 174, 17193, 706, 348, 229, 3, 955, 2185, 134, 3336, 273, 3, 1067, 177, 533, 1, 199, 214, 101, 1738, 334, 106, 124, 113, 204, 479, 509, 113, 1410, 94, 134, 575, 822, 19, 3, 11216, 86, 16, 7377, 43205, 93, 39, 1174, 106, 442, 702, 8338, 284, 1214, 176]\n",
      "['phil', 'the', 'alien', 'is', 'one', 'of', 'those', 'quirky', 'films', 'where', 'the', 'humour', 'is', 'based', 'around', 'the', 'oddness', 'of', 'everything', 'rather', 'than', 'actual', 'punchlines', 'at', 'first', 'it', 'was', 'very', 'odd', 'and', 'pretty', 'funny', 'but', 'as', 'the', 'movie', 'progressed', 'i', 'didn', 't', 'find', 'the', 'jokes', 'or', 'oddness', 'funny', 'anymore', 'its', 'a', 'low', 'budget', 'film', 'thats', 'never', 'a', 'problem', 'in', 'itself', 'there', 'were', 'some', 'pretty', 'interesting', 'characters', 'but', 'eventually', 'i', 'just', 'lost', 'interest', 'i', 'imagine', 'this', 'film', 'would', 'appeal', 'to', 'a', 'stoner', 'who', 'is', 'currently', 'partaking', 'for', 'something', 'similar', 'but', 'better', 'try', 'brother', 'from', 'another', 'planet']\n",
      "[113, 245, 94, 45, 142, 113, 14, 5, 142, 56, 1386, 408, 113, 3794, 8, 6465, 64, 14, 8, 211, 9784, 6409, 1189, 39537, 18825, 284, 45430, 181, 408, 36, 8, 729, 8, 767, 8, 767, 195, 3, 2959, 140, 608, 19, 451, 1094, 1040, 622, 65, 6221, 38376, 113, 69, 14, 2841, 36, 8, 6614, 93, 451, 1199, 1554, 1352, 71, 1428, 4118, 8, 2403, 3, 915, 963, 86, 423, 47, 8, 971, 36, 3, 8701, 57, 3, 1898, 7640, 142, 8, 1199, 9186, 177, 8, 70, 113, 916, 148, 454, 46, 93, 8, 3224, 2912, 195, 3, 618, 202, 57, 8, 1033, 1117, 113, 1012, 68, 387, 93, 8, 3989, 571, 106, 5, 3, 618, 174, 156, 44, 113, 245, 1542, 142, 56, 1386, 408, 57, 113, 161, 71, 8, 2430, 9767, 3151, 14, 16637, 371, 939, 177, 8, 134, 113, 1773, 152, 57, 1713, 5316, 87, 71, 1231, 1356, 10865, 260, 377, 152, 8, 255, 267, 56, 152, 19, 47, 195, 2592, 195, 2077, 57, 97, 284, 3, 262, 7926, 6614, 1, 260, 351, 2001]\n",
      "['i', 'saw', 'this', 'movie', 'when', 'i', 'was', 'about', 'when', 'it', 'came', 'out', 'i', 'recall', 'the', 'scariest', 'scene', 'was', 'the', 'big', 'bird', 'eating', 'men', 'dangling', 'helplessly', 'from', 'parachutes', 'right', 'out', 'of', 'the', 'air', 'the', 'horror', 'the', 'horror', 'as', 'a', 'young', 'kid', 'going', 'to', 'these', 'cheesy', 'b', 'films', 'on', 'saturday', 'afternoons', 'i', 'still', 'was', 'tired', 'of', 'the', 'formula', 'for', 'these', 'monster', 'type', 'movies', 'that', 'usually', 'included', 'the', 'hero', 'a', 'beautiful', 'woman', 'who', 'might', 'be', 'the', 'daughter', 'of', 'a', 'professor', 'and', 'a', 'happy', 'resolution', 'when', 'the', 'monster', 'died', 'in', 'the', 'end', 'i', 'didn', 't', 'care', 'much', 'for', 'the', 'romantic', 'angle', 'as', 'a', 'year', 'old', 'and', 'the', 'predictable', 'plots', 'i', 'love', 'them', 'now', 'for', 'the', 'unintentional', 'humor', 'but', 'about', 'a', 'year', 'or', 'so', 'later', 'i', 'saw', 'psycho', 'when', 'it', 'came', 'out', 'and', 'i', 'loved', 'that', 'the', 'star', 'janet', 'leigh', 'was', 'bumped', 'off', 'early', 'in', 'the', 'film', 'i', 'sat', 'up', 'and', 'took', 'notice', 'at', 'that', 'point', 'since', 'screenwriters', 'are', 'making', 'up', 'the', 'story', 'make', 'it', 'up', 'to', 'be', 'as', 'scary', 'as', 'possible', 'and', 'not', 'from', 'a', 'well', 'worn', 'formula', 'there', 'are', 'no', 'rules']\n",
      "[156, 563, 97, 3, 211, 1023, 36, 10017, 232, 780, 106, 372, 143, 97, 287, 260, 113, 1195, 84, 45, 28057, 1612, 563, 8, 138, 166, 10017, 1300, 3798, 8, 9234, 19, 792, 503, 1670, 779, 1373, 731, 474, 8, 1076, 533, 14, 731, 96484, 147, 86, 137, 1195, 2924, 87734, 57, 25517, 2893, 9228, 29318, 6373, 65, 3, 27996, 827, 354, 47, 10171, 71, 94, 16, 97, 503, 1670, 94, 16, 39, 617, 10017, 137, 91576, 2270, 2438, 23, 84, 15009, 36, 13917, 4612, 55436, 65, 8, 367, 617, 10017, 9542, 1107, 36, 84, 48621, 19, 2227, 23, 451, 2258, 2333, 205, 8, 865, 36, 23881, 34561, 11330, 19786, 57, 42806, 43972, 1107, 865, 71, 111, 137, 435, 68, 51242, 101, 211, 177, 8, 45, 25840, 156, 8, 2101, 141, 283, 94, 1693, 31597, 517, 205, 23881, 34561, 365, 31597, 16, 6234, 35, 21196, 8, 70786, 6409, 23447, 631, 113, 1053, 71, 90106, 289, 177, 94, 45, 16, 101, 16439, 147, 137, 5535, 5, 612, 235, 232, 97, 278, 1808, 1588, 19, 8, 896, 31597, 10548, 106, 42, 138, 245, 31597, 177, 3, 584, 1599, 7526, 156, 42, 501, 148, 278, 119, 185, 235, 337, 283, 142, 235, 14, 15848, 3, 631, 8, 1724, 177, 94, 134, 16, 1309, 7113, 42, 373, 8, 1232, 3774, 5120, 1725, 45533, 517, 205, 11330, 19786, 377, 33348, 11126, 1389, 174, 85018, 195, 15, 260, 1042, 4414, 84, 1906, 2893, 9228, 65, 48, 827, 71, 310, 165, 36, 3628, 16766, 93, 214, 1645, 3336, 181, 351, 17344, 18318, 79, 0, 42, 1321, 214, 2580, 1578, 25016, 7580, 42, 983, 148, 731, 151, 503, 474, 113, 40, 19, 1670, 66855, 113, 482, 2333, 65, 236, 380, 76, 51, 3192, 613, 1588, 19, 1602, 6242, 372, 2333, 57, 373, 94, 45, 51, 513, 97, 47, 1306, 56, 5098, 8, 1588, 10017, 5201, 555, 268, 36, 56, 513, 11527, 1, 260, 214, 127, 764, 12329, 71, 575, 9289, 71, 10017, 498, 3, 492, 780, 65, 214, 7252, 36, 8, 134, 543, 195, 214, 2580, 5111, 57, 1889, 117, 1384, 8, 896, 52450, 38638, 85018, 13881, 4049, 8, 64, 57, 62, 204, 213, 165, 979, 8, 45, 503, 1670, 23332, 36, 94629, 71, 232, 21977, 93, 51, 54533, 284, 3, 13289, 530, 76, 51, 3192, 91, 3, 73501, 2333, 824, 14063, 31597, 317, 3, 88, 2405, 8346, 86, 213, 51, 3192, 1136, 368, 8, 584, 1107, 447, 235, 232, 65, 642]\n",
      "['so', 'im', 'not', 'a', 'big', 'fan', 'of', 'boll', 's', 'work', 'but', 'then', 'again', 'not', 'many', 'are', 'i', 'enjoyed', 'his', 'movie', 'postal', 'maybe', 'im', 'the', 'only', 'one', 'boll', 'apparently', 'bought', 'the', 'rights', 'to', 'use', 'far', 'cry', 'long', 'ago', 'even', 'before', 'the', 'game', 'itself', 'was', 'even', 'finsished', 'people', 'who', 'have', 'enjoyed', 'killing', 'mercs', 'and', 'infiltrating', 'secret', 'research', 'labs', 'located', 'on', 'a', 'tropical', 'island', 'should', 'be', 'warned', 'that', 'this', 'is', 'not', 'far', 'cry', 'this', 'is', 'something', 'mr', 'boll', 'have', 'schemed', 'together', 'along', 'with', 'his', 'legion', 'of', 'schmucks', 'feeling', 'loneley', 'on', 'the', 'set', 'mr', 'boll', 'invites', 'three', 'of', 'his', 'countrymen', 'to', 'play', 'with', 'these', 'players', 'go', 'by', 'the', 'names', 'of', 'til', 'schweiger', 'udo', 'kier', 'and', 'ralf', 'moeller', 'three', 'names', 'that', 'actually', 'have', 'made', 'them', 'selfs', 'pretty', 'big', 'in', 'the', 'movie', 'biz', 'so', 'the', 'tale', 'goes', 'like', 'this', 'jack', 'carver', 'played', 'by', 'til', 'schweiger', 'yes', 'carver', 'is', 'german', 'all', 'hail', 'the', 'bratwurst', 'eating', 'dudes', 'however', 'i', 'find', 'that', 'tils', 'acting', 'in', 'this', 'movie', 'is', 'pretty', 'badass', 'people', 'have', 'complained', 'about', 'how', 'he', 's', 'not', 'really', 'staying', 'true', 'to', 'the', 'whole', 'carver', 'agenda', 'but', 'we', 'only', 'saw', 'carver', 'in', 'a', 'first', 'person', 'perspective', 'so', 'we', 'don', 't', 'really', 'know', 'what', 'he', 'looked', 'like', 'when', 'he', 'was', 'kicking', 'a', 'however', 'the', 'storyline', 'in', 'this', 'film', 'is', 'beyond', 'demented', 'we', 'see', 'the', 'evil', 'mad', 'scientist', 'dr', 'krieger', 'played', 'by', 'udo', 'kier', 'making', 'genetically', 'mutated', 'soldiers', 'or', 'gms', 'as', 'they', 'are', 'called', 'performing', 'his', 'top', 'secret', 'research', 'on', 'an', 'island', 'that', 'reminds', 'me', 'of', 'spoiler', 'vancouver', 'for', 'some', 'reason', 'thats', 'right', 'no', 'palm', 'trees', 'here', 'instead', 'we', 'got', 'some', 'nice', 'rich', 'lumberjack', 'woods', 'we', 'haven', 't', 'even', 'gone', 'far', 'before', 'i', 'started', 'to', 'cry', 'mehehe', 'i', 'cannot', 'go', 'on', 'any', 'more', 'if', 'you', 'wanna', 'stay', 'true', 'to', 'bolls', 'shenanigans', 'then', 'go', 'and', 'see', 'this', 'movie', 'you', 'will', 'not', 'be', 'disappointed', 'it', 'delivers', 'the', 'true', 'boll', 'experience', 'meaning', 'most', 'of', 'it', 'will', 'suck', 'there', 'are', 'some', 'things', 'worth', 'mentioning', 'that', 'would', 'imply', 'that', 'boll', 'did', 'a', 'good', 'work', 'on', 'some', 'areas', 'of', 'the', 'film', 'such', 'as', 'some', 'nice', 'boat', 'and', 'fighting', 'scenes', 'until', 'the', 'whole', 'cromed', 'albino', 'gms', 'squad', 'enters', 'the', 'scene', 'and', 'everything', 'just', 'makes', 'me', 'laugh', 'the', 'movie', 'far', 'cry', 'reeks', 'of', 'scheisse', 'that', 's', 'poop', 'for', 'you', 'simpletons', 'from', 'a', 'fa', 'r', 'if', 'you', 'wanna', 'take', 'a', 'wiff', 'go', 'ahead', 'btw', 'carver', 'gets', 'a', 'very', 'annoying', 'sidekick', 'who', 'makes', 'you', 'wanna', 'shoot', 'him', 'the', 'first', 'three', 'minutes', 'he', 's', 'on', 'screen']\n",
      "[8, 441, 517, 7360, 7360, 479, 113, 3357, 71, 94, 16, 1787, 19, 696, 7360, 19, 8, 10997, 106, 603, 7547, 39, 156, 492, 16, 56, 330, 8, 1855, 2227, 16, 96, 1819, 7360, 113, 74, 97, 119, 185, 113, 74, 119, 16, 71, 3, 3962, 20720, 91487, 8467, 29577, 3022, 19, 74, 39, 1174, 177, 8, 9597, 992, 177, 107, 1055, 51, 482, 1223, 5979, 113, 137, 351, 380, 19, 3640, 106, 195, 113, 137, 19, 3640, 87, 400, 1320, 1507, 36, 10655, 57, 3457, 18337, 14, 273, 96, 10198, 113, 513, 204, 137, 19, 2642, 608, 57, 18, 71, 94, 45, 195, 8, 1004, 141, 204, 22, 97, 391, 56]\n",
      "['the', 'cast', 'played', 'shakespeare', 'shakespeare', 'lost', 'i', 'appreciate', 'that', 'this', 'is', 'trying', 'to', 'bring', 'shakespeare', 'to', 'the', 'masses', 'but', 'why', 'ruin', 'something', 'so', 'good', 'is', 'it', 'because', 'the', 'scottish', 'play', 'is', 'my', 'favorite', 'shakespeare', 'i', 'do', 'not', 'know', 'what', 'i', 'do', 'know', 'is', 'that', 'a', 'certain', 'rev', 'bowdler', 'hence', 'bowdlerization', 'tried', 'to', 'do', 'something', 'similar', 'in', 'the', 'victorian', 'era', 'in', 'other', 'words', 'you', 'cannot', 'improve', 'perfection', 'i', 'have', 'no', 'more', 'to', 'write', 'but', 'as', 'i', 'have', 'to', 'write', 'at', 'least', 'ten', 'lines', 'of', 'text', 'and', 'english', 'composition', 'was', 'never', 'my', 'forte', 'i', 'will', 'just', 'have', 'to', 'keep', 'going', 'and', 'say', 'that', 'this', 'movie', 'as', 'the', 'saying', 'goes', 'just', 'does', 'not', 'cut', 'it']\n",
      "[94, 3, 500, 45, 36, 1107, 7486, 86, 948, 3976, 166, 36, 8, 406, 16, 4278, 4811, 57, 113, 407, 97, 3, 1023, 106, 94, 1821, 16, 97, 1198, 1214, 492, 1022, 5, 8, 45, 16, 8, 4821, 8, 99, 36, 2811, 10450, 113, 80429, 94, 45, 19, 723, 31557, 14831]\n",
      "['this', 'a', 'fantastic', 'movie', 'of', 'three', 'prisoners', 'who', 'become', 'famous', 'one', 'of', 'the', 'actors', 'is', 'george', 'clooney', 'and', 'i', 'm', 'not', 'a', 'fan', 'but', 'this', 'roll', 'is', 'not', 'bad', 'another', 'good', 'thing', 'about', 'the', 'movie', 'is', 'the', 'soundtrack', 'the', 'man', 'of', 'constant', 'sorrow', 'i', 'recommand', 'this', 'movie', 'to', 'everybody', 'greetings', 'bart']\n",
      "[110, 36, 4611, 177, 205, 8, 5180, 117, 138, 19, 918, 94, 14, 166, 36, 8, 268, 8527, 57, 2250, 4257, 36, 134, 113, 1607, 427, 369, 2744, 36, 283, 3, 340, 1427, 134, 1512, 185, 14, 9760, 9076, 3247, 57, 185, 14, 23, 35, 641, 2115, 334, 177, 71, 6464, 2911, 6948, 318, 101, 360, 19, 164, 2446, 23, 94, 166, 351, 7056, 19, 47, 3847, 284, 56, 351, 514, 15978, 204, 4017, 57, 597, 59, 106, 3333, 36, 1838, 76, 71, 25753, 51, 16349, 1663, 185, 14, 23, 8, 24171, 765, 408, 36, 5955, 224, 35, 8, 17966, 3530, 57, 185, 14, 23, 71, 6610, 891, 23, 723, 1203, 241, 7202, 3590, 6, 94, 166, 3, 7096, 56, 232, 283, 3, 745, 107, 1745, 36, 1198, 4321, 134, 962, 71, 41, 137, 30, 708, 65, 34983, 1522, 174, 2752, 177, 5523]\n",
      "['kind', 'of', 'drawn', 'in', 'by', 'the', 'erotic', 'scenes', 'only', 'to', 'realize', 'this', 'was', 'one', 'of', 'the', 'most', 'amateurish', 'and', 'unbelievable', 'bits', 'of', 'film', 'i', 've', 'ever', 'seen', 'sort', 'of', 'like', 'a', 'high', 'school', 'film', 'project', 'what', 'was', 'rosanna', 'arquette', 'thinking', 'and', 'what', 'was', 'with', 'all', 'those', 'stock', 'characters', 'in', 'that', 'bizarre', 'supposed', 'midwest', 'town', 'pretty', 'hard', 'to', 'get', 'involved', 'with', 'this', 'one', 'no', 'lessons', 'to', 'be', 'learned', 'from', 'it', 'no', 'brilliant', 'insights', 'just', 'stilted', 'and', 'quite', 'ridiculous', 'but', 'lots', 'of', 'skin', 'if', 'that', 'intrigues', 'you', 'videotaped', 'nonsense', 'what', 'was', 'with', 'the', 'bisexual', 'relationship', 'out', 'of', 'nowhere', 'after', 'all', 'the', 'heterosexual', 'encounters', 'and', 'what', 'was', 'with', 'that', 'absurd', 'dance', 'with', 'everybody', 'playing', 'their', 'stereotyped', 'roles', 'give', 'this', 'one', 'a', 'pass', 'it', 's', 'like', 'a', 'million', 'other', 'miles', 'of', 'bad', 'wasted', 'film', 'money', 'that', 'could', 'have', 'been', 'spent', 'on', 'starving', 'children', 'or', 'aids', 'in', 'africa']\n",
      "[214, 622, 204, 878, 354, 97, 47, 1490, 94, 16, 166, 36, 68, 177, 57, 36, 533, 56, 16, 97, 3, 1198, 134, 106, 56, 339, 19, 665, 8, 13063, 57, 8, 5038, 36, 8, 134, 36, 8, 753, 2847, 14963, 20445, 14, 1248, 195, 235, 432, 16, 57, 268, 36, 8, 441, 3662, 152, 23, 8, 4392, 36, 7855, 3407, 86, 204, 498, 97, 696, 8, 181, 17, 19, 8, 797, 36, 7500, 106, 8, 1013, 4407, 23, 94, 382, 16, 71, 56, 19298, 306, 503, 284, 8, 9768, 2579, 255, 177, 56, 232, 4800, 19, 47, 16661, 57, 479, 214, 36, 8, 2518, 36, 8, 3290, 134, 177, 3, 8857, 371, 93, 99032, 870, 271, 143, 113, 513, 18, 71, 177, 57, 36, 533, 56, 16, 97, 3, 1198, 134, 106, 51, 513, 694, 8, 8158, 36, 5038, 177, 8, 3134, 382, 46, 380]\n",
      "['some', 'films', 'just', 'simply', 'should', 'not', 'be', 'remade', 'this', 'is', 'one', 'of', 'them', 'in', 'and', 'of', 'itself', 'it', 'is', 'not', 'a', 'bad', 'film', 'but', 'it', 'fails', 'to', 'capture', 'the', 'flavor', 'and', 'the', 'terror', 'of', 'the', 'film', 'of', 'the', 'same', 'title', 'liam', 'neeson', 'was', 'excellent', 'as', 'he', 'always', 'is', 'and', 'most', 'of', 'the', 'cast', 'holds', 'up', 'with', 'the', 'exception', 'of', 'owen', 'wilson', 'who', 'just', 'did', 'not', 'bring', 'the', 'right', 'feel', 'to', 'the', 'character', 'of', 'luke', 'but', 'the', 'major', 'fault', 'with', 'this', 'version', 'is', 'that', 'it', 'strayed', 'too', 'far', 'from', 'the', 'shirley', 'jackson', 'story', 'in', 'it', 's', 'attempts', 'to', 'be', 'grandiose', 'and', 'lost', 'some', 'of', 'the', 'thrill', 'of', 'the', 'earlier', 'film', 'in', 'a', 'trade', 'off', 'for', 'snazzier', 'special', 'effects', 'again', 'i', 'will', 'say', 'that', 'in', 'and', 'of', 'itself', 'it', 'is', 'not', 'a', 'bad', 'film', 'but', 'you', 'will', 'enjoy', 'the', 'friction', 'of', 'terror', 'in', 'the', 'older', 'version', 'much', 'more']\n",
      "[94, 45, 435, 56, 444, 166, 36, 96, 1906, 268, 805, 1352, 1934, 1, 466, 148, 3, 19946, 2666, 60, 1, 466, 148, 3, 488, 23, 166, 1199, 174, 1214, 1, 14, 351, 823, 93, 236, 797, 4842, 15, 199, 306, 7204, 247, 284, 166, 6086, 488, 19, 1214, 113, 438, 351, 3695, 13606, 3838, 19, 8, 211, 1198, 1943, 71, 1008, 19, 3027, 68, 117, 199, 13927, 1827, 284, 107, 1352, 8969, 2430, 1269, 57, 4014, 9811, 8, 3274, 64, 87, 8, 70, 14, 1827, 284, 8, 1581, 64, 36, 8, 202, 2430, 1269, 23, 23033, 79635, 166, 57, 3504, 8, 10532, 1943, 177, 8, 2106, 14, 1366, 283, 22257, 191, 4924, 205, 8, 10532, 177, 856, 36, 8, 17475, 13875, 1068, 16, 8, 280, 177, 923, 622, 57, 2338, 56, 21345, 24626, 229, 280, 57, 26128, 68, 152, 7715, 15684, 57, 8, 896, 1943, 5146, 167, 3183, 14, 8, 4014, 174, 8600, 1, 260, 380, 9811, 106, 603, 1476, 8, 158, 57, 513, 956, 304, 165, 185, 14, 23, 8, 10261, 232, 10261, 232, 1, 14, 3, 1267, 255, 1572, 3721, 19, 3, 1267, 837, 8, 45, 41, 97, 1620, 76, 56, 14, 3, 1522, 232, 45, 174, 48, 1539, 45, 57, 466, 148, 46, 36, 1129, 204, 805, 3, 537, 6851, 19, 18, 8, 400, 3585, 536, 962]\n",
      "['this', 'movie', 'made', 'it', 'into', 'one', 'of', 'my', 'top', 'most', 'awful', 'movies', 'horrible', 'there', 'wasn', 't', 'a', 'continuous', 'minute', 'where', 'there', 'wasn', 't', 'a', 'fight', 'with', 'one', 'monster', 'or', 'another', 'there', 'was', 'no', 'chance', 'for', 'any', 'character', 'development', 'they', 'were', 'too', 'busy', 'running', 'from', 'one', 'sword', 'fight', 'to', 'another', 'i', 'had', 'no', 'emotional', 'attachment', 'except', 'to', 'the', 'big', 'bad', 'machine', 'that', 'wanted', 'to', 'destroy', 'them', 'scenes', 'were', 'blatantly', 'stolen', 'from', 'other', 'movies', 'lotr', 'star', 'wars', 'and', 'matrix', 'examples', 'the', 'ghost', 'scene', 'at', 'the', 'end', 'was', 'stolen', 'from', 'the', 'final', 'scene', 'of', 'the', 'old', 'star', 'wars', 'with', 'yoda', 'obee', 'one', 'and', 'vader', 'the', 'spider', 'machine', 'in', 'the', 'beginning', 'was', 'exactly', 'like', 'frodo', 'being', 'attacked', 'by', 'the', 'spider', 'in', 'return', 'of', 'the', 'kings', 'elijah', 'wood', 'is', 'the', 'victim', 'in', 'both', 'films', 'and', 'wait', 'it', 'hypnotizes', 'stings', 'its', 'victim', 'and', 'wraps', 'them', 'up', 'uh', 'hello', 'and', 'the', 'whole', 'machine', 'vs', 'humans', 'theme', 'was', 'the', 'matrix', 'or', 'terminator', 'there', 'are', 'more', 'examples', 'but', 'why', 'waste', 'the', 'time', 'and', 'will', 'someone', 'tell', 'me', 'what', 'was', 'with', 'the', 'nazi', 's', 'nazi', 's', 'there', 'was', 'a', 'juvenile', 'story', 'line', 'rushed', 'to', 'a', 'juvenile', 'conclusion', 'the', 'movie', 'could', 'not', 'decide', 'if', 'it', 'was', 'a', 'children', 's', 'movie', 'or', 'an', 'adult', 'movie', 'and', 'wasn', 't', 'much', 'of', 'either', 'just', 'awful', 'a', 'real', 'disappointment', 'to', 'say', 'the', 'least', 'save', 'your', 'money']\n",
      "[113, 335, 94, 134, 56, 14, 8, 584, 134, 113, 438, 1239, 87, 8, 2494, 8, 1434, 14, 1077, 177, 8106, 113, 14, 88, 12594, 56, 14, 1657, 177, 96, 7116, 1713, 165, 96, 8338, 2649, 19, 24153, 2494, 177, 24153, 65080, 2301, 113, 3794, 8, 32004, 57, 8, 3333, 36, 8044, 177, 8, 134, 100, 8, 1090, 36, 14257, 4921, 497, 3764, 35979, 113, 1105, 166, 36, 8, 32004, 317, 303, 57, 8290, 76, 760, 325, 60, 19, 1053, 94, 65, 1871, 800, 1027, 485, 165, 119, 8, 2494, 387, 463, 30, 465, 177, 3, 12226, 2747, 437, 16, 3, 88, 211, 2415, 195, 8, 4272, 2494, 387, 16, 1745, 276, 575, 1012, 19, 934, 284, 2850, 86, 137, 369, 94, 134, 174, 236, 107, 283, 56]\n",
      "['i', 'remember', 'this', 'film', 'it', 'was', 'the', 'first', 'film', 'i', 'had', 'watched', 'at', 'the', 'cinema', 'the', 'picture', 'was', 'dark', 'in', 'places', 'i', 'was', 'very', 'nervous', 'it', 'was', 'back', 'in', 'my', 'dad', 'took', 'me', 'my', 'brother', 'sister', 'to', 'newbury', 'cinema', 'in', 'newbury', 'berkshire', 'england', 'i', 'recall', 'the', 'tigers', 'and', 'the', 'lots', 'of', 'snow', 'in', 'the', 'film', 'also', 'the', 'appearance', 'of', 'grizzly', 'adams', 'actor', 'dan', 'haggery', 'i', 'think', 'one', 'of', 'the', 'tigers', 'gets', 'shot', 'and', 'dies', 'if', 'anyone', 'knows', 'where', 'to', 'find', 'this', 'on', 'dvd', 'etc', 'please', 'let', 'me', 'know', 'the', 'cinema', 'now', 'has', 'been', 'turned', 'in', 'a', 'fitness', 'club', 'which', 'is', 'a', 'very', 'big', 'shame', 'as', 'the', 'nearest', 'cinema', 'now', 'is', 'miles', 'away', 'would', 'love', 'to', 'hear', 'from', 'others', 'who', 'have', 'seen', 'this', 'film', 'or', 'any', 'other', 'like', 'it']\n",
      "[48, 805, 134, 56, 596, 137, 30, 152, 363, 214, 537, 17954, 19, 47, 5977, 93, 8, 510, 13766, 15, 1607, 170, 8, 255, 36, 8, 584, 3976, 3455, 14622, 11823, 57, 49261, 56, 1309, 5880, 96, 4651, 16, 97, 71, 15, 1607, 170, 9093, 23, 8, 11442, 76, 8, 255, 199, 492, 71, 575, 1985, 1603, 106, 56, 232, 878, 6464, 205, 35, 9526, 8, 1588, 255, 36, 94, 2352, 575, 137, 435, 93, 3, 503, 442, 134, 156, 603, 498, 15, 31, 152, 23, 94, 20510, 898, 2493, 113, 5675, 1, 2342, 148, 512, 532, 147, 177, 8, 12695, 382, 56, 232, 32877, 32311, 371, 177, 8, 70, 23, 3, 3190, 36, 8, 2352, 232, 546, 42, 41, 137, 1942, 6143, 3, 570, 36, 1723, 76, 15, 1245, 5172, 8, 1635, 36, 8, 134, 23, 753, 30485]\n",
      "['an', 'awful', 'film', 'it', 'must', 'have', 'been', 'up', 'against', 'some', 'real', 'stinkers', 'to', 'be', 'nominated', 'for', 'the', 'golden', 'globe', 'they', 've', 'taken', 'the', 'story', 'of', 'the', 'first', 'famous', 'female', 'renaissance', 'painter', 'and', 'mangled', 'it', 'beyond', 'recognition', 'my', 'complaint', 'is', 'not', 'that', 'they', 've', 'taken', 'liberties', 'with', 'the', 'facts', 'if', 'the', 'story', 'were', 'good', 'that', 'would', 'perfectly', 'fine', 'but', 'it', 's', 'simply', 'bizarre', 'by', 'all', 'accounts', 'the', 'true', 'story', 'of', 'this', 'artist', 'would', 'have', 'made', 'for', 'a', 'far', 'better', 'film', 'so', 'why', 'did', 'they', 'come', 'up', 'with', 'this', 'dishwater', 'dull', 'script', 'i', 'suppose', 'there', 'weren', 't', 'enough', 'naked', 'people', 'in', 'the', 'factual', 'version', 'it', 's', 'hurriedly', 'capped', 'off', 'in', 'the', 'end', 'with', 'a', 'summary', 'of', 'the', 'artist', 's', 'life', 'we', 'could', 'have', 'saved', 'ourselves', 'a', 'couple', 'of', 'hours', 'if', 'they', 'd', 'favored', 'the', 'rest', 'of', 'the', 'film', 'with', 'same', 'brevity']\n"
     ]
    }
   ],
   "source": [
    "print(len(oh_data[0]))\n",
    "for i in range(20):\n",
    "    print(oh_data[i][:])\n",
    "    print(X_txt[i][:])"
   ]
  },
  {
   "cell_type": "code",
   "execution_count": 13,
   "id": "1b67b640",
   "metadata": {},
   "outputs": [
    {
     "data": {
      "text/plain": [
       "99420"
      ]
     },
     "execution_count": 13,
     "metadata": {},
     "output_type": "execute_result"
    }
   ],
   "source": [
    "len(embed)\n"
   ]
  },
  {
   "cell_type": "code",
   "execution_count": 14,
   "id": "5223c385",
   "metadata": {},
   "outputs": [
    {
     "name": "stdout",
     "output_type": "stream",
     "text": [
      "0 instead\n",
      "1 there\n",
      "2 glasses\n",
      "3 a\n",
      "4 abundance\n",
      "5 about\n",
      "6 give\n",
      "7 concise\n",
      "8 the\n",
      "9 childish\n",
      "10 six\n",
      "11 performances\n",
      "12 best\n",
      "13 disturbing\n",
      "14 was\n",
      "15 they\n",
      "16 is\n",
      "17 feel\n",
      "18 say\n",
      "19 to\n"
     ]
    }
   ],
   "source": [
    "re={}\n",
    "cou=0\n",
    "for i in embed:\n",
    "    re[cou]=i\n",
    "    cou+=1\n",
    "\n",
    "for i in range(20):\n",
    "    print(i, re[i])"
   ]
  },
  {
   "cell_type": "code",
   "execution_count": 15,
   "id": "438462f1",
   "metadata": {},
   "outputs": [
    {
     "name": "stdout",
     "output_type": "stream",
     "text": [
      "2494\n"
     ]
    }
   ],
   "source": [
    "max_len = 0\n",
    "for i in X_txt:\n",
    "    if len(i) > max_len:\n",
    "        max_len = len(i)\n",
    "print(max_len)"
   ]
  },
  {
   "cell_type": "code",
   "execution_count": 16,
   "id": "ad030fab",
   "metadata": {},
   "outputs": [],
   "source": [
    "from torch import tensor,long as ft\n",
    "from torch.utils.data import Dataset,DataLoader\n",
    "class QAdata(Dataset):\n",
    "    def __init__(self,oh_data,ans,embed_l,max_len):\n",
    "        self.oh=oh_data\n",
    "        self.ans=ans\n",
    "        self.e=embed_l\n",
    "        self.m=max_len\n",
    "        self.n=embed_l\n",
    "    def __len__(self):\n",
    "        return len(self.oh)\n",
    "    def __getitem__(self,i):\n",
    "        # oo=torch.ones(self.m, dtype=ft)*self.n\n",
    "        # oo[:len(self.oh[i])] = torch.tensor(self.oh[i], dtype=ft)       \n",
    "        # return oo,tensor(self.ans[i])\n",
    "        return torch.tensor(self.oh[i], dtype=ft), tensor(self.ans[i], dtype=ft)\n",
    "    \n"
   ]
  },
  {
   "cell_type": "code",
   "execution_count": null,
   "id": "ea751f89",
   "metadata": {},
   "outputs": [],
   "source": [
    "X_train, y_train, X_test, y_test = oh_data[:40000], Y[:40000], oh_data[40000:], Y[40000:]\n",
    "train_data = QAdata(X_train, y_train, embed_l=len(embed),max_len=max_len)\n",
    "test_data = QAdata(X_test, y_test, embed_l=len(embed), max_len=max_len)\n",
    "train_loader = DataLoader(train_data, batch_size=64, shuffle=True)\n",
    "test_loader = DataLoader(test_data, batch_size=64, shuffle=False)"
   ]
  },
  {
   "cell_type": "code",
   "execution_count": 18,
   "id": "6248e979",
   "metadata": {},
   "outputs": [
    {
     "name": "stdout",
     "output_type": "stream",
     "text": [
      "tensor([  166,    36,     8,   107,  2251,   463,  1644,    71,   224,   118,\n",
      "          204, 12881,    34,    51,    73,    47, 10771,    15,   260,   181,\n",
      "          195,    94,    16,  1366,   185,   847,    23,   165,     8,   584,\n",
      "         1022,    71, 17003,   165,     5, 12881,    14,   229,  8201,    57,\n",
      "        10524,   117,    36,  4729,   437,   367,   177,   181,   284,     8,\n",
      "         3165,  2333,  4481,   165,    94,    16,    97,     3,   439,    93,\n",
      "            8,  4669,  4851,   174, 21580,    94,   439,   302,   351, 21566,\n",
      "           23,  9432,    19,  6075,  2472,   174,  4729,   229,    16, 10679,\n",
      "          177,     8,  1139,   792,    36,     8,  3165,    56,    16,  1042,\n",
      "        12881,   195,    71,    16,     8, 21510,   958,    19,     8, 15561,\n",
      "        14278, 10669,  1793, 25886,    56,  2852,  2695,    65, 29194,  1348,\n",
      "           48,  2991,  4179,    36,     8,  1234,    60,    35,     8,  6789,\n",
      "          137,   882, 12998,    57,  1128, 66903,   156,  6865,    16,    97,\n",
      "          340,    65,     8, 10548,  1075,  1348,    16,  2914,    19,   287,\n",
      "        35464, 12010, 47903,  6520,  2790,  3759,   301,    57,   380,   156,\n",
      "        65223,  1243, 17313, 16657, 17373,    57,  6095, 18184,   260,   273,\n",
      "          503,   276,   113,   575,    18,     8,  1302,   822,    36,     8,\n",
      "          439,    16,  4958,    19,     8,  1734,    71,    56,   141,    60,\n",
      "          107,   431,   600,   148,  5922,  1326,   101,  2474, 13330,    93,\n",
      "         5965,  2720,  1326,  2711,  1326,  1796, 12881,   684,   148,   258,\n",
      "           55,     8,   584,    34,   113,   427,   245, 17003,   165,   195,\n",
      "          156,  2141,    56,    14,  1908,   113,  1478,   148,    18,   113,\n",
      "           14,  2935,    93,    56,   106,   195,   113,  1239,   380,   113,\n",
      "         1479,     3,  7412,    93, 12881,    57,  1321, 28172,    19,     8,\n",
      "          340,  6304,    36,   222,  4729,    97,   204,  4729,   106, 23126,\n",
      "         7052,  5274,    86,    73,    47,  7493,   408,    93,     3, 21741,\n",
      "         9019,    86,    73,  1340,    65,   341,    57,   164,   276,    23,\n",
      "           56,   262, 13359,  1765,   849,  9019,   191,   465,   444,  1234,\n",
      "        25987,  4958,    19,   241,  2402,    36,  1536,  4432,   174,  1234,\n",
      "         5201,   118, 12881,    51,   783,   948,  4006,    23,   185,    16,\n",
      "         8250,  1162,  3336,    76,    51,   159,   164,   177,  1697,    23,\n",
      "          536,  6209,  3864]) tensor(1)\n",
      "tensor([    3,   761,   483,   525,     8,  2846,  4959,    16,    88, 27990,\n",
      "           88,   202,   158,  1895,  1666,    57,   734,     3, 27098,    57,\n",
      "         1418, 38306,   845,    36,  1275,    19,     8,   376,    20,     8,\n",
      "          406,   260,  4805,   262,  5361,   183,  1623,    97,   138,   463,\n",
      "         1321,    35,     8, 90918,   106,   235,   463,    35,     8,  6010,\n",
      "          212,  5092,   306,    51,   159,   954,   373,     8,  3419,  2346,\n",
      "        15321,   205,     8,  7330,    19,  1492, 18949,  3286,    97,   138,\n",
      "           16,    56,   262,   764,     8,   118,   106,    56,    16,     3,\n",
      "        56164,  1145,    57,  5514,    20,     3,  3969,   525,     5,   166,\n",
      "           36,     8,    43,  8916,   232,    36,  1127,    57,    84,   546,\n",
      "            8,  1275,   278,  1304,  2914,    23,     8,   483,   127,     8,\n",
      "         3307,    36,     8,  6028,   437,   868,   770,   792,     8,   460,\n",
      "          253,  2135,   515,  8655,   372, 10966,    56,   353,    65,  2111,\n",
      "         1704,    57,  2111, 10741,   461,    23,     8,   117,  6348, 27819,\n",
      "           57,  2898,    57,     8,   550,   461,    36,   241,  3361,    23,\n",
      "         2898,   232, 54812, 18165,   139,  3690,   260,  1586,   262,   518]) tensor(1)\n",
      "tensor([  113,   743,    94,    14,     3,   761,   940,    19,  3854,   158,\n",
      "           65,     3,   306,  5112,  1393,  1207,  9726,   177,     8,   729,\n",
      "        24231,  3453,    57,   118,     3,  1591,  4851,  1127,     8,   420,\n",
      "           16,  9079,   106,     8,   261,    16,  2471,    57,     8,   334,\n",
      "          260,  1721,   731,     8,   262, 11086, 19782,  3633,  4333,    63,\n",
      "          214,   783,    47,  1306,   142,    15,   918,    94,    16,    97,\n",
      "         3434,  1231,  2197,  9873,   113,   743,    56,    14,  3848,    71,\n",
      "         6265,  3164,    16,    69,  8178,   177,  5669,    36,     8,   648,\n",
      "          287,    36,  1016,   137,  3394,    19,  1012,    94,    14,     8,\n",
      "          268,   113,  1245,   769,    87,   166,    36,  6265,   232,  2260,\n",
      "          177,  2237,  5922,   113,    18,     3,  5402,    63,   113,  1607,\n",
      "          273,    30,  2492,    23, 11457, 45311,   177,    94,   279,  6538,\n",
      "           19,  4220,   212,   203,  1653,  4307,    57,  8298,   181,   444,\n",
      "            3,  1219,   106,  3944,  2959,   963,    94,   783,    97,    47,\n",
      "            8, 23605, 11069,    36,    84,  2099,   106,    56,    14,  3363,\n",
      "          770,  5702,  6543, 35726,    57,   380,  1738,   770,  6652,     3,\n",
      "           43,  1127,    19,  2333,   373,    23,    21]) tensor(1)\n",
      "tensor([  286,     1,   232,     3,   605,    60,     3,   483,   270, 10131,\n",
      "         6402,     1,   232,     3,  1499,   177,    84,  3208,    84,  4372,\n",
      "          260,  1889,    35,     8,   158,    94,    45,    16,  7652,   770,\n",
      "            3,  5137,  1325,    57,  2753, 10131,  4473,    19,   948, 15483,\n",
      "           57,  1340,     8,  1499,   389,   584,    36,    35,   142,    51,\n",
      "         1457,   608,    19,   267,     3,   134,    51,   596,  1620,    76,\n",
      "          229,     3,  1093,   174,     3,  2304,   195,     3,  2304,     8,\n",
      "           45,    16,  3521,  4372,   260, 35042, 12803,   283,   177,   537,\n",
      "          546,    57,   372,    42,   137, 10131,    23,    84,  3208,   437,\n",
      "          220,  1940,    35,     8,   134,   113,  2241,    19,   373,     3,\n",
      "        20681,  1174,    45,    57,     0,   113,  1239,     3,  2304,    23,\n",
      "          214, 14842,  1093, 12584,   408,    36,   204,    93,     8,   262,\n",
      "         1203,  4372, 10516,  1063,   195,    93,     8,  1308,    23, 10131,\n",
      "          204,  7170,    68]) tensor(0)\n",
      "tensor([56593, 22472,   232,  1012,   177,     8,   158,    36,   962,    16,\n",
      "            3,  6650,  2636,   134,    19,   625,   617, 22472,  2507,  1016,\n",
      "            3, 19689,  8876,     5,   919,   981,    94,    16,     3,    45,\n",
      "           71,   171,    19,    47,  2585,  1016,   185,   962,   264,    57,\n",
      "          405,    74,    19,   147,   177,     8,   266,   173,    42,  3173,\n",
      "           94,   191,     3,  9417,    65,     8,  2457, 56186,   232,  2227,\n",
      "            5,     8,   753,  3183,     8,   135, 20313,     8,  1589,    19,\n",
      "            8,  3154,   158,   493,  3142,    60,    35,   451,   266,   334,\n",
      "         1864,    57,  6863,   323,   166,    16,  2803,   177,   166,   940,\n",
      "          174,  1214,    19,     8,  1818,  1599,   106,   351,   166,   171,\n",
      "           19,   119,     8,  2575,  1231,    36,  2975, 23500,     8,   134,\n",
      "          463,     3,  6981, 19044,   282,    42,   260,   170,    19,   373,\n",
      "          612,   451,   147,   602,    57,     8,   766,    15,   602,   177,\n",
      "          241,   507, 28522,     8,   138,  1022,   166,   317,   408,    36,\n",
      "           35,   451,   538,   177,     8,  1434,    16,     8,   266, 10426,\n",
      "           36,  1548,   323,   166,  8733,     3,   211,  1348,    16,    97,\n",
      "         1366,     8,    12,   566,   177,   437,   919,   981,  1053,  9354,\n",
      "        21273,   195,   166, 70647,    16,     8,   632,    23,   268,    36,\n",
      "            8,   147,    42,  3173,     8,   289,    16,   492,  1727,   617,\n",
      "        22472,   232,  1812,  1537, 13694,  7833,  8653,  5207,  4238,   183,\n",
      "        10240, 12299, 34134,    57,     8,  1635,    36,     8,  6853,   441,\n",
      "          267,   451,   334,    31,  5055,    42,  1660,   617, 22472,   492,\n",
      "         6889,    57, 13301, 29313,    93,    84,  1818,   780]) tensor(1)\n",
      "tensor([  598,    96,    35,   158,  1819,    45,     3,   255,    36, 60694,\n",
      "         1201,    57,  2901,    19,     3, 10149,  2353,   106,    56,   232,\n",
      "           97,  2350,   174,   839,    56,   204,   273,   317,   202,   851,\n",
      "           96,   922,   369,    56,   214,   174,   380,   333,   177,     8,\n",
      "          911,  2237,    66,   455,   685,  3263,  2658,    19,    96,   904,\n",
      "           57, 11821,  2291,   177,   166,    36,   203,    88,   263,   954,\n",
      "         9989,  3590,    16,     3,  6573,     8,  1643,   260,   195, 10701,\n",
      "          294,   380,   283,  4330,   152, 26793,   770,  1522,   106,    71,\n",
      "          138,   213,    68,   380,  1421,    19,   625,    57,     8,   499,\n",
      "          232,  1066,  7517,    19,   185,   232,  4114,   177,     8,   766,\n",
      "           57,  1727,   203,   507,  1468,    16,   136,    57,  8001,    76,\n",
      "          113,   438,     3,  6932, 11738,    15,  1245,    35,    47,   152,\n",
      "           93,    94,    45]) tensor(1)\n",
      "tensor([  113,  1095,   575,   283,    19,   373,     3,  4510,    36,     3,\n",
      "          152,  3485, 63714,  1152,    23,     8,  3273,    15,   137,   228,\n",
      "           56,   575,   696,  1657,     8,   140,  3087,   177,   165,   113,\n",
      "         1511,   152,    65,  1567,    57,  3036,  1416,    57, 63714,    23,\n",
      "        13884,   199,    96,  2403,   232,   139,  3430,    51,   137,    96,\n",
      "         1182,    93,     3, 10908,    36,     3,   493,  8500, 11025,    42,\n",
      "         1046,     3,  1276,    36,  2214,   177,  1416,    57,    94,   575,\n",
      "          780,    93,     3,   766,    36,  1727,  1575,  6706,   573,   205,\n",
      "            8,   940,  2110,    51,    93,    48, 27456,   283,    94,    19,\n",
      "         1712,   287, 20109,     5,  1416,    57,     8,   287,  1352,   156,\n",
      "          236, 27373,   940,   113,   105,   113,  1607,  1321,   185,   113,\n",
      "         3192,    18,   575,    47,  2580,    19,   829,   214,   380,  3577,\n",
      "         1576,     5,  8500, 11025,    76,    96, 30275,   575,    47,  1507,\n",
      "          575,    51,   485,   165, 16290,   174,  3254,   165,   408,    19,\n",
      "           47,   177,  1292,    57,   137,   165,    19, 12624,    76,    94,\n",
      "           16,   156,   372,   113,   596,  2333,   156,  1456,    74,    56]) tensor(1)\n",
      "tensor([   94,   439,    14,    48,  1204,  3294,  2255,  1110,   177,     8,\n",
      "          232,   142,    56,   584, 11733,     8,   584,   174,  2237,   199,\n",
      "          514,   106,   127,  5378,   371,   224,    71,   205,     8,   439,\n",
      "           14,    97,   278,   706,   348,    57,    56,   232,  5519,   229,\n",
      "         7076,  2988,    19,     8,  1817,  1476,    36,   158,    56,    16,\n",
      "          228,    56,   232,   954,  9975,   612,   503,    94,   439,   463,\n",
      "         2608,     8,  1015,    16,  3099,  1198,     8,    11,   260,   194,\n",
      "          195,  1198,    76,    97,    93,     8, 11472,   714, 15532,    36,\n",
      "            8,  4161,  8499,    94,   439,   598,   600,   148,    69,    47,\n",
      "           65,     8,   729,   113,  1053,    56,   156,   360,    19,   105,\n",
      "           71,     8,   753,  6032,    71,  1814, 12555,     8,   305,   441,\n",
      "          100,   949,     8,  2195,    36, 11847,    71,  3575,   612,   159,\n",
      "          166,  2542,   543,  5629,    57,   372,   373,  3520,    19,  1658,\n",
      "           56,    23,   543, 13836,   113,   710,   113,   596,     6,  1265,\n",
      "          408,    36,   701,    93,     8,   305,   441,    71,   435,    94,\n",
      "          439,   543,     3,  5591,   405,   195,    56,    16,   387,     8,\n",
      "          439,    16,   204,   805,   113,   159,   148,   105,    56,   232,\n",
      "           69,    65,     8,   729]) tensor(0)\n",
      "tensor([10363,   205,     8,  6317,   398,     5,    94,   134,    65,    79,\n",
      "          113,    14,   604,   798,    19,   118,    94,   134,  1198,   610,\n",
      "          113,  1607,   369,   622,    57,    94,    16,   954,   166,    36,\n",
      "            8,   396,    36,    68,    56,   232,   805,   177,   194,   139,\n",
      "          940,  2346,  8801,  1724,   289,  4821,     8,   134,   232,   138,\n",
      "         1755,     3,  3144,  1705,  4836,    16,   517,   351,  1083,   770,\n",
      "          478,   333,     8,   134,   926,   297,    57,  2141,    57,    16,\n",
      "          839,   177,     8,   961,  1153,   137,   113,    30,   156,  1898,\n",
      "           19,   373,     8,    70,  1988,    36,     3,   134,     8,   138,\n",
      "         1022,    71,  8734,   165,  1315,    94,     3,   749,    16,  1382,\n",
      "         4954,    63,    94,    16,   503,   284,    84,    12,   685,   235,\n",
      "           87,   400,   171,    19,    47,   377,     3,   846,    36,    48,\n",
      "         2286,   166,    93,  4954, 70319,   138]) tensor(0)\n",
      "tensor([   76,    51,   283,   305, 17216,  9167,  4895,    51,   513,   283,\n",
      "           94,    45,    76,    51,   260,  2959,   174,   202,   372,    51,\n",
      "          513,  1012,    94,    45,  3571,   731,    96,  8350,   704,    56,\n",
      "           43,  5456]) tensor(1)\n"
     ]
    }
   ],
   "source": [
    "import torch\n",
    "i=0\n",
    "for question, answer in train_data:\n",
    "  print(question, answer)\n",
    "  i+=1\n",
    "  if i==10:\n",
    "    break"
   ]
  },
  {
   "cell_type": "code",
   "execution_count": 1,
   "id": "269d60bd",
   "metadata": {},
   "outputs": [
    {
     "name": "stdout",
     "output_type": "stream",
     "text": [
      "Collecting transformers\n",
      "  Downloading transformers-4.52.4-py3-none-any.whl.metadata (38 kB)\n",
      "Requirement already satisfied: filelock in c:\\users\\johan\\miniconda3\\envs\\torchsong\\lib\\site-packages (from transformers) (3.13.1)\n",
      "Collecting huggingface-hub<1.0,>=0.30.0 (from transformers)\n",
      "  Downloading huggingface_hub-0.33.0-py3-none-any.whl.metadata (14 kB)\n",
      "Requirement already satisfied: numpy>=1.17 in c:\\users\\johan\\miniconda3\\envs\\torchsong\\lib\\site-packages (from transformers) (2.1.1)\n",
      "Requirement already satisfied: packaging>=20.0 in c:\\users\\johan\\miniconda3\\envs\\torchsong\\lib\\site-packages (from transformers) (24.2)\n",
      "Requirement already satisfied: pyyaml>=5.1 in c:\\users\\johan\\miniconda3\\envs\\torchsong\\lib\\site-packages (from transformers) (6.0.2)\n",
      "Collecting regex!=2019.12.17 (from transformers)\n",
      "  Using cached regex-2024.11.6-cp310-cp310-win_amd64.whl.metadata (41 kB)\n",
      "Requirement already satisfied: requests in c:\\users\\johan\\miniconda3\\envs\\torchsong\\lib\\site-packages (from transformers) (2.32.3)\n",
      "Collecting tokenizers<0.22,>=0.21 (from transformers)\n",
      "  Downloading tokenizers-0.21.1-cp39-abi3-win_amd64.whl.metadata (6.9 kB)\n",
      "Collecting safetensors>=0.4.3 (from transformers)\n",
      "  Downloading safetensors-0.5.3-cp38-abi3-win_amd64.whl.metadata (3.9 kB)\n",
      "Requirement already satisfied: tqdm>=4.27 in c:\\users\\johan\\miniconda3\\envs\\torchsong\\lib\\site-packages (from transformers) (4.67.1)\n",
      "Requirement already satisfied: fsspec>=2023.5.0 in c:\\users\\johan\\miniconda3\\envs\\torchsong\\lib\\site-packages (from huggingface-hub<1.0,>=0.30.0->transformers) (2024.6.1)\n",
      "Requirement already satisfied: typing-extensions>=3.7.4.3 in c:\\users\\johan\\miniconda3\\envs\\torchsong\\lib\\site-packages (from huggingface-hub<1.0,>=0.30.0->transformers) (4.12.2)\n",
      "Requirement already satisfied: colorama in c:\\users\\johan\\miniconda3\\envs\\torchsong\\lib\\site-packages (from tqdm>=4.27->transformers) (0.4.6)\n",
      "Requirement already satisfied: charset-normalizer<4,>=2 in c:\\users\\johan\\miniconda3\\envs\\torchsong\\lib\\site-packages (from requests->transformers) (3.4.1)\n",
      "Requirement already satisfied: idna<4,>=2.5 in c:\\users\\johan\\miniconda3\\envs\\torchsong\\lib\\site-packages (from requests->transformers) (3.10)\n",
      "Requirement already satisfied: urllib3<3,>=1.21.1 in c:\\users\\johan\\miniconda3\\envs\\torchsong\\lib\\site-packages (from requests->transformers) (2.3.0)\n",
      "Requirement already satisfied: certifi>=2017.4.17 in c:\\users\\johan\\miniconda3\\envs\\torchsong\\lib\\site-packages (from requests->transformers) (2025.1.31)\n",
      "Downloading transformers-4.52.4-py3-none-any.whl (10.5 MB)\n",
      "   ---------------------------------------- 0.0/10.5 MB ? eta -:--:--\n",
      "   ---------------------------------------- 0.0/10.5 MB ? eta -:--:--\n",
      "   - -------------------------------------- 0.3/10.5 MB ? eta -:--:--\n",
      "   --- ------------------------------------ 0.8/10.5 MB 2.6 MB/s eta 0:00:04\n",
      "   ---------- ----------------------------- 2.6/10.5 MB 4.9 MB/s eta 0:00:02\n",
      "   -------------------------- ------------- 6.8/10.5 MB 9.5 MB/s eta 0:00:01\n",
      "   ---------------------------------------- 10.5/10.5 MB 12.5 MB/s eta 0:00:00\n",
      "Downloading huggingface_hub-0.33.0-py3-none-any.whl (514 kB)\n",
      "Using cached regex-2024.11.6-cp310-cp310-win_amd64.whl (274 kB)\n",
      "Downloading safetensors-0.5.3-cp38-abi3-win_amd64.whl (308 kB)\n",
      "Downloading tokenizers-0.21.1-cp39-abi3-win_amd64.whl (2.4 MB)\n",
      "   ---------------------------------------- 0.0/2.4 MB ? eta -:--:--\n",
      "   ---------------------------------------- 2.4/2.4 MB 23.1 MB/s eta 0:00:00\n",
      "Installing collected packages: safetensors, regex, huggingface-hub, tokenizers, transformers\n",
      "Successfully installed huggingface-hub-0.33.0 regex-2024.11.6 safetensors-0.5.3 tokenizers-0.21.1 transformers-4.52.4\n"
     ]
    }
   ],
   "source": [
    "!pip install transformers"
   ]
  },
  {
   "cell_type": "code",
   "execution_count": null,
   "id": "1beee824",
   "metadata": {},
   "outputs": [],
   "source": [
    "from torch import nn\n",
    "from transformers import BertModel, BertTokenizer\n",
    "class simpleLSTM(nn.Module):\n",
    "    def __init__(self, vocab_size):\n",
    "        super().__init__()\n",
    "        self.bert = BertModel.from_pretrained('bert-base-uncased')\n",
    "        self.lstm = nn.LSTM(self.bert.config.hidden_size, 16, dropout=0.2, batch_first=True)\n",
    "        self.lin = nn.Linear(16, 1)\n",
    "        self.sigmoid = nn.Sigmoid()\n",
    "        # Freeze BERT parameters if you don't want to fine-tune\n",
    "        for param in self.bert.parameters():\n",
    "            param.requires_grad = False\n",
    "\n",
    "    def forward(self, X):\n",
    "        # X is expected to be token ids, attention mask should be handled as well\n",
    "        attention_mask = (X != 0).long()\n",
    "        bert_output = self.bert(input_ids=X, attention_mask=attention_mask)\n",
    "        em = bert_output.last_hidden_state\n",
    "        output, (hidden, state) = self.lstm(em)\n",
    "        out = self.lin(output[:, -1, :])\n",
    "        out = self.sigmoid(out)\n",
    "        return out"
   ]
  },
  {
   "cell_type": "code",
   "execution_count": null,
   "id": "0f52f21d",
   "metadata": {},
   "outputs": [
    {
     "name": "stdout",
     "output_type": "stream",
     "text": [
      "torch.Size([1, 1]) torch.Size([1])\n",
      "Batch Loss: 0.9669526815414429\n"
     ]
    },
    {
     "name": "stderr",
     "output_type": "stream",
     "text": [
      "c:\\Users\\Johan\\miniconda3\\envs\\torchsong\\lib\\site-packages\\torch\\nn\\modules\\rnn.py:123: UserWarning: dropout option adds dropout after all but last recurrent layer, so non-zero dropout expects num_layers greater than 1, but got dropout=0.2 and num_layers=1\n",
      "  warnings.warn(\n"
     ]
    }
   ],
   "source": [
    "from torch import optim\n",
    "lr=0.001\n",
    "epochs=20\n",
    "model = simpleLSTM(len(embed))\n",
    "device = torch.device(\"cuda\" if torch.cuda.is_available() else \"cpu\")\n",
    "print(f\"Using device: {device}\")\n",
    "model.to(device)\n",
    "optimizer = optim.Adam(model.parameters(), lr=lr)\n",
    "criterion = nn.BCEWithLogitsLoss()\n",
    "for epoch in range(epochs):\n",
    "    tl=0\n",
    "    for X,y in train_loader:\n",
    "        optimizer.zero_grad()\n",
    "        output = model(X.to(device))\n",
    "        print(output.shape, y.shape)\n",
    "        loss = criterion(output.squeeze(0), y.float())\n",
    "        loss.backward()\n",
    "        optimizer.step()\n",
    "        tl+=loss.item()\n",
    "    print(f\"Epoch {epoch+1}/{epochs}, Loss: {tl/len(train_loader)}\")\n"
   ]
  },
  {
   "cell_type": "code",
   "execution_count": null,
   "id": "0e2eeaf0",
   "metadata": {},
   "outputs": [],
   "source": []
  }
 ],
 "metadata": {
  "kernelspec": {
   "display_name": "torchsong",
   "language": "python",
   "name": "python3"
  },
  "language_info": {
   "codemirror_mode": {
    "name": "ipython",
    "version": 3
   },
   "file_extension": ".py",
   "mimetype": "text/x-python",
   "name": "python",
   "nbconvert_exporter": "python",
   "pygments_lexer": "ipython3",
   "version": "3.10.0"
  }
 },
 "nbformat": 4,
 "nbformat_minor": 5
}
