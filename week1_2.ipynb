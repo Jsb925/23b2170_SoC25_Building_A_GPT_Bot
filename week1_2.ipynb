{
 "cells": [
  {
   "cell_type": "markdown",
   "id": "5bf1621c",
   "metadata": {},
   "source": [
    "SoC: Building a GPT Bot \\\n",
    "Week 1,2 notes"
   ]
  },
  {
   "cell_type": "code",
   "execution_count": 1,
   "id": "fa0c032c",
   "metadata": {},
   "outputs": [
    {
     "name": "stdout",
     "output_type": "stream",
     "text": [
      "Collecting nltk\n",
      "  Downloading nltk-3.9.1-py3-none-any.whl.metadata (2.9 kB)\n",
      "Collecting click (from nltk)\n",
      "  Downloading click-8.2.1-py3-none-any.whl.metadata (2.5 kB)\n",
      "Collecting joblib (from nltk)\n",
      "  Downloading joblib-1.5.1-py3-none-any.whl.metadata (5.6 kB)\n",
      "Collecting regex>=2021.8.3 (from nltk)\n",
      "  Downloading regex-2024.11.6-cp313-cp313-win_amd64.whl.metadata (41 kB)\n",
      "Collecting tqdm (from nltk)\n",
      "  Using cached tqdm-4.67.1-py3-none-any.whl.metadata (57 kB)\n",
      "Requirement already satisfied: colorama in c:\\users\\johan\\appdata\\roaming\\python\\python313\\site-packages (from click->nltk) (0.4.6)\n",
      "Downloading nltk-3.9.1-py3-none-any.whl (1.5 MB)\n",
      "   ---------------------------------------- 0.0/1.5 MB ? eta -:--:--\n",
      "   -------------------- ------------------- 0.8/1.5 MB 7.3 MB/s eta 0:00:01\n",
      "   ---------------------------------------- 1.5/1.5 MB 9.7 MB/s eta 0:00:00\n",
      "Downloading regex-2024.11.6-cp313-cp313-win_amd64.whl (273 kB)\n",
      "Downloading click-8.2.1-py3-none-any.whl (102 kB)\n",
      "Downloading joblib-1.5.1-py3-none-any.whl (307 kB)\n",
      "Using cached tqdm-4.67.1-py3-none-any.whl (78 kB)\n",
      "Installing collected packages: tqdm, regex, joblib, click, nltk\n",
      "\n",
      "   ---------------- ----------------------- 2/5 [joblib]\n",
      "   ---------------- ----------------------- 2/5 [joblib]\n",
      "   -------------------------------- ------- 4/5 [nltk]\n",
      "   -------------------------------- ------- 4/5 [nltk]\n",
      "   -------------------------------- ------- 4/5 [nltk]\n",
      "   -------------------------------- ------- 4/5 [nltk]\n",
      "   -------------------------------- ------- 4/5 [nltk]\n",
      "   -------------------------------- ------- 4/5 [nltk]\n",
      "   ---------------------------------------- 5/5 [nltk]\n",
      "\n",
      "Successfully installed click-8.2.1 joblib-1.5.1 nltk-3.9.1 regex-2024.11.6 tqdm-4.67.1\n"
     ]
    }
   ],
   "source": [
    "#install nltk\n",
    "!pip install nltk"
   ]
  },
  {
   "cell_type": "markdown",
   "id": "450096db",
   "metadata": {},
   "source": [
    "## Tokenisation\n",
    "Different techniques to convert a general word into a vector"
   ]
  },
  {
   "cell_type": "code",
   "execution_count": 1,
   "id": "e84e9084",
   "metadata": {},
   "outputs": [],
   "source": [
    "corpus = \"The Balrog reached the bridge. Gandalf stood in the middle of the span, leaning on the staff in \\\n",
    "    his left hand, but in his other hand Glamdring gleamed, cold and white. His enemy halted again, facing him,\\\n",
    "    and the shadow about it reached out like two vast wings. It raised the whip, and the thongs whined and cracked.\\\n",
    "    Fire came from its nostrils. But Gandalf stood firm. 'You cannot pass,' he said. The orcs stood still, and a dead silence fell.\\\n",
    "    'I am a servant of the Secret Fire, wielder of the flame of Anor. You cannot pass. The dark fire will not avail you, flame of Udûn.\\\n",
    "    Go back to the Shadow! You cannot pass.\""
   ]
  },
  {
   "cell_type": "code",
   "execution_count": 8,
   "id": "c26de0b7",
   "metadata": {},
   "outputs": [],
   "source": [
    "from nltk.tokenize import sent_tokenize, word_tokenize, WhitespaceTokenizer"
   ]
  },
  {
   "cell_type": "code",
   "execution_count": 6,
   "id": "331d6eeb",
   "metadata": {},
   "outputs": [
    {
     "data": {
      "text/plain": [
       "['The Balrog reached the bridge.',\n",
       " 'Gandalf stood in the middle of the span, leaning on the staff in     his left hand, but in his other hand Glamdring gleamed, cold and white.',\n",
       " 'His enemy halted again, facing him,    and the shadow about it reached out like two vast wings.',\n",
       " 'It raised the whip, and the thongs whined and cracked.',\n",
       " 'Fire came from its nostrils.',\n",
       " 'But Gandalf stood firm.',\n",
       " \"'You cannot pass,' he said.\",\n",
       " 'The orcs stood still, and a dead silence fell.',\n",
       " \"'I am a servant of the Secret Fire, wielder of the flame of Anor.\",\n",
       " 'You cannot pass.',\n",
       " 'The dark fire will not avail you, flame of Udûn.',\n",
       " 'Go back to the Shadow!',\n",
       " 'You cannot pass.']"
      ]
     },
     "execution_count": 6,
     "metadata": {},
     "output_type": "execute_result"
    }
   ],
   "source": [
    "# sentence splitting\n",
    "sent_tokenize(corpus)    "
   ]
  },
  {
   "cell_type": "code",
   "execution_count": 7,
   "id": "33d61735",
   "metadata": {},
   "outputs": [
    {
     "data": {
      "text/plain": [
       "['The',\n",
       " 'Balrog',\n",
       " 'reached',\n",
       " 'the',\n",
       " 'bridge',\n",
       " '.',\n",
       " 'Gandalf',\n",
       " 'stood',\n",
       " 'in',\n",
       " 'the',\n",
       " 'middle',\n",
       " 'of',\n",
       " 'the',\n",
       " 'span',\n",
       " ',',\n",
       " 'leaning',\n",
       " 'on',\n",
       " 'the',\n",
       " 'staff',\n",
       " 'in',\n",
       " 'his',\n",
       " 'left',\n",
       " 'hand',\n",
       " ',',\n",
       " 'but',\n",
       " 'in',\n",
       " 'his',\n",
       " 'other',\n",
       " 'hand',\n",
       " 'Glamdring',\n",
       " 'gleamed',\n",
       " ',',\n",
       " 'cold',\n",
       " 'and',\n",
       " 'white',\n",
       " '.',\n",
       " 'His',\n",
       " 'enemy',\n",
       " 'halted',\n",
       " 'again',\n",
       " ',',\n",
       " 'facing',\n",
       " 'him',\n",
       " ',',\n",
       " 'and',\n",
       " 'the',\n",
       " 'shadow',\n",
       " 'about',\n",
       " 'it',\n",
       " 'reached',\n",
       " 'out',\n",
       " 'like',\n",
       " 'two',\n",
       " 'vast',\n",
       " 'wings',\n",
       " '.',\n",
       " 'It',\n",
       " 'raised',\n",
       " 'the',\n",
       " 'whip',\n",
       " ',',\n",
       " 'and',\n",
       " 'the',\n",
       " 'thongs',\n",
       " 'whined',\n",
       " 'and',\n",
       " 'cracked',\n",
       " '.',\n",
       " 'Fire',\n",
       " 'came',\n",
       " 'from',\n",
       " 'its',\n",
       " 'nostrils',\n",
       " '.',\n",
       " 'But',\n",
       " 'Gandalf',\n",
       " 'stood',\n",
       " 'firm',\n",
       " '.',\n",
       " \"'You\",\n",
       " 'can',\n",
       " 'not',\n",
       " 'pass',\n",
       " ',',\n",
       " \"'\",\n",
       " 'he',\n",
       " 'said',\n",
       " '.',\n",
       " 'The',\n",
       " 'orcs',\n",
       " 'stood',\n",
       " 'still',\n",
       " ',',\n",
       " 'and',\n",
       " 'a',\n",
       " 'dead',\n",
       " 'silence',\n",
       " 'fell',\n",
       " '.',\n",
       " \"'\",\n",
       " 'I',\n",
       " 'am',\n",
       " 'a',\n",
       " 'servant',\n",
       " 'of',\n",
       " 'the',\n",
       " 'Secret',\n",
       " 'Fire',\n",
       " ',',\n",
       " 'wielder',\n",
       " 'of',\n",
       " 'the',\n",
       " 'flame',\n",
       " 'of',\n",
       " 'Anor',\n",
       " '.',\n",
       " 'You',\n",
       " 'can',\n",
       " 'not',\n",
       " 'pass',\n",
       " '.',\n",
       " 'The',\n",
       " 'dark',\n",
       " 'fire',\n",
       " 'will',\n",
       " 'not',\n",
       " 'avail',\n",
       " 'you',\n",
       " ',',\n",
       " 'flame',\n",
       " 'of',\n",
       " 'Udûn',\n",
       " '.',\n",
       " 'Go',\n",
       " 'back',\n",
       " 'to',\n",
       " 'the',\n",
       " 'Shadow',\n",
       " '!',\n",
       " 'You',\n",
       " 'can',\n",
       " 'not',\n",
       " 'pass',\n",
       " '.']"
      ]
     },
     "execution_count": 7,
     "metadata": {},
     "output_type": "execute_result"
    }
   ],
   "source": [
    "#word splits\n",
    "word_tokenize(corpus)"
   ]
  },
  {
   "cell_type": "code",
   "execution_count": 9,
   "id": "630af1a6",
   "metadata": {},
   "outputs": [
    {
     "data": {
      "text/plain": [
       "['The',\n",
       " 'Balrog',\n",
       " 'reached',\n",
       " 'the',\n",
       " 'bridge.',\n",
       " 'Gandalf',\n",
       " 'stood',\n",
       " 'in',\n",
       " 'the',\n",
       " 'middle',\n",
       " 'of',\n",
       " 'the',\n",
       " 'span,',\n",
       " 'leaning',\n",
       " 'on',\n",
       " 'the',\n",
       " 'staff',\n",
       " 'in',\n",
       " 'his',\n",
       " 'left',\n",
       " 'hand,',\n",
       " 'but',\n",
       " 'in',\n",
       " 'his',\n",
       " 'other',\n",
       " 'hand',\n",
       " 'Glamdring',\n",
       " 'gleamed,',\n",
       " 'cold',\n",
       " 'and',\n",
       " 'white.',\n",
       " 'His',\n",
       " 'enemy',\n",
       " 'halted',\n",
       " 'again,',\n",
       " 'facing',\n",
       " 'him,',\n",
       " 'and',\n",
       " 'the',\n",
       " 'shadow',\n",
       " 'about',\n",
       " 'it',\n",
       " 'reached',\n",
       " 'out',\n",
       " 'like',\n",
       " 'two',\n",
       " 'vast',\n",
       " 'wings.',\n",
       " 'It',\n",
       " 'raised',\n",
       " 'the',\n",
       " 'whip,',\n",
       " 'and',\n",
       " 'the',\n",
       " 'thongs',\n",
       " 'whined',\n",
       " 'and',\n",
       " 'cracked.',\n",
       " 'Fire',\n",
       " 'came',\n",
       " 'from',\n",
       " 'its',\n",
       " 'nostrils.',\n",
       " 'But',\n",
       " 'Gandalf',\n",
       " 'stood',\n",
       " 'firm.',\n",
       " \"'You\",\n",
       " 'cannot',\n",
       " \"pass,'\",\n",
       " 'he',\n",
       " 'said.',\n",
       " 'The',\n",
       " 'orcs',\n",
       " 'stood',\n",
       " 'still,',\n",
       " 'and',\n",
       " 'a',\n",
       " 'dead',\n",
       " 'silence',\n",
       " 'fell.',\n",
       " \"'I\",\n",
       " 'am',\n",
       " 'a',\n",
       " 'servant',\n",
       " 'of',\n",
       " 'the',\n",
       " 'Secret',\n",
       " 'Fire,',\n",
       " 'wielder',\n",
       " 'of',\n",
       " 'the',\n",
       " 'flame',\n",
       " 'of',\n",
       " 'Anor.',\n",
       " 'You',\n",
       " 'cannot',\n",
       " 'pass.',\n",
       " 'The',\n",
       " 'dark',\n",
       " 'fire',\n",
       " 'will',\n",
       " 'not',\n",
       " 'avail',\n",
       " 'you,',\n",
       " 'flame',\n",
       " 'of',\n",
       " 'Udûn.',\n",
       " 'Go',\n",
       " 'back',\n",
       " 'to',\n",
       " 'the',\n",
       " 'Shadow!',\n",
       " 'You',\n",
       " 'cannot',\n",
       " 'pass.']"
      ]
     },
     "execution_count": 9,
     "metadata": {},
     "output_type": "execute_result"
    }
   ],
   "source": [
    "#splits based on spaces\n",
    "whitespace_tokenizer = WhitespaceTokenizer()\n",
    "whitespace_tokenizer.tokenize(corpus)"
   ]
  },
  {
   "cell_type": "markdown",
   "id": "3065d873",
   "metadata": {},
   "source": [
    "## Stemming \n",
    "Converting different conjugations to a unique word"
   ]
  },
  {
   "cell_type": "code",
   "execution_count": 2,
   "id": "91788c75",
   "metadata": {},
   "outputs": [],
   "source": [
    "from nltk import PorterStemmer, RegexpStemmer, SnowballStemmer"
   ]
  },
  {
   "cell_type": "code",
   "execution_count": 3,
   "id": "91549db0",
   "metadata": {},
   "outputs": [],
   "source": [
    "words= [\"running\", \"ran\", \"easily\", \"fairly\", \"faster\", \"fastest\"]"
   ]
  },
  {
   "cell_type": "code",
   "execution_count": 12,
   "id": "dae9bbc9",
   "metadata": {},
   "outputs": [
    {
     "name": "stdout",
     "output_type": "stream",
     "text": [
      "running : run\n",
      "ran : ran\n",
      "easily : easili\n",
      "fairly : fairli\n",
      "faster : faster\n",
      "fastest : fastest\n"
     ]
    }
   ],
   "source": [
    "pstem= PorterStemmer()\n",
    "for word in words:\n",
    "    print(word, \":\", pstem.stem(word))"
   ]
  },
  {
   "cell_type": "markdown",
   "id": "ff2a6b3f",
   "metadata": {},
   "source": [
    "Not great results"
   ]
  },
  {
   "cell_type": "code",
   "execution_count": 5,
   "id": "8b00a2f9",
   "metadata": {},
   "outputs": [
    {
     "name": "stdout",
     "output_type": "stream",
     "text": [
      "running : runn\n",
      "ran : ran\n",
      "easily : easily\n",
      "fairly : fairly\n",
      "faster : faster\n",
      "fastest : fastest\n"
     ]
    }
   ],
   "source": [
    "regstem= RegexpStemmer(\"ing$|es$|ed$\", min=4)\n",
    "for word in words:\n",
    "    print(word, \":\", regstem.stem(word))"
   ]
  },
  {
   "cell_type": "code",
   "execution_count": 6,
   "id": "cdf5e4e7",
   "metadata": {},
   "outputs": [
    {
     "name": "stdout",
     "output_type": "stream",
     "text": [
      "running : run\n",
      "ran : ran\n",
      "easily : easili\n",
      "fairly : fair\n",
      "faster : faster\n",
      "fastest : fastest\n"
     ]
    }
   ],
   "source": [
    "snowball=SnowballStemmer(\"english\")\n",
    "for word in words:\n",
    "    print(word, \":\", snowball.stem(word))"
   ]
  },
  {
   "cell_type": "markdown",
   "id": "bd5a59b0",
   "metadata": {},
   "source": [
    "## WordNet Lemmatization\n",
    "Using the WordNet corpus we can convert words to their Lemmas-their root word, in a particualr form"
   ]
  },
  {
   "cell_type": "code",
   "execution_count": 13,
   "id": "2b07a107",
   "metadata": {},
   "outputs": [
    {
     "name": "stdout",
     "output_type": "stream",
     "text": [
      "running : run\n",
      "ran : run\n",
      "easily : easily\n",
      "fairly : fairly\n",
      "faster : faster\n",
      "fastest : fastest\n"
     ]
    }
   ],
   "source": [
    "from nltk import WordNetLemmatizer\n",
    "gp = WordNetLemmatizer()\n",
    "for word in words:\n",
    "    print(word, \":\", gp.lemmatize(word,pos='v'))  # pos can be 'noun', 'verb', 'adj', 'adv', give position of input word"
   ]
  },
  {
   "cell_type": "code",
   "execution_count": 14,
   "id": "cd2d5469",
   "metadata": {},
   "outputs": [
    {
     "name": "stdout",
     "output_type": "stream",
     "text": [
      "running : running\n",
      "ran : ran\n",
      "easily : easily\n",
      "fairly : fairly\n",
      "faster : fast\n",
      "fastest : fast\n"
     ]
    }
   ],
   "source": [
    "for word in words:\n",
    "    print(word, \":\", gp.lemmatize(word,pos='a'))  # pos can be 'n', 'v', 'adj', 'adv', give position of input word"
   ]
  },
  {
   "cell_type": "markdown",
   "id": "d9ba35e3",
   "metadata": {},
   "source": [
    "## Stopwords\n",
    "Words that dont have much meaning and can be removed"
   ]
  },
  {
   "cell_type": "code",
   "execution_count": 3,
   "id": "91200a21",
   "metadata": {},
   "outputs": [
    {
     "name": "stdout",
     "output_type": "stream",
     "text": [
      "Filtered Sentence: ['Balrog', 'reached', 'bridge', '.', 'Gandalf', 'stood', 'middle', 'span', ',', 'leaning', 'staff', 'left', 'hand', ',', 'hand', 'Glamdring', 'gleamed', ',', 'cold', 'white', '.', 'enemy', 'halted', ',', 'facing', ',', 'shadow', 'reached', 'like', 'two', 'vast', 'wings', '.', 'raised', 'whip', ',', 'thongs', 'whined', 'cracked', '.', 'Fire', 'came', 'nostrils', '.', 'Gandalf', 'stood', 'firm', '.', \"'You\", 'pass', ',', \"'\", 'said', '.', 'orcs', 'stood', 'still', ',', 'dead', 'silence', 'fell', '.', \"'\", 'servant', 'Secret', 'Fire', ',', 'wielder', 'flame', 'Anor', '.', 'pass', '.', 'dark', 'fire', 'avail', ',', 'flame', 'Udûn', '.', 'Go', 'back', 'Shadow', '!', 'pass', '.']\n"
     ]
    }
   ],
   "source": [
    "from nltk.corpus import stopwords\n",
    "from nltk import word_tokenize\n",
    "stop_words = set(stopwords.words('english'))\n",
    "filtered_sentence = [w for w in word_tokenize(corpus) if not w.lower() in stop_words]\n",
    "print(\"Filtered Sentence:\", filtered_sentence)"
   ]
  },
  {
   "cell_type": "markdown",
   "id": "1bba2876",
   "metadata": {},
   "source": [
    "## Word Position\n",
    "We can use nltk to get position of each word"
   ]
  },
  {
   "cell_type": "code",
   "execution_count": 4,
   "id": "53b4215e",
   "metadata": {},
   "outputs": [
    {
     "name": "stdout",
     "output_type": "stream",
     "text": [
      "POS Tagged: [('Balrog', 'NNP'), ('reached', 'VBD'), ('bridge', 'NN'), ('.', '.'), ('Gandalf', 'NNP'), ('stood', 'VBD'), ('middle', 'JJ'), ('span', 'NN'), (',', ','), ('leaning', 'VBG')]\n"
     ]
    }
   ],
   "source": [
    "from nltk import pos_tag\n",
    "pos_tagged = pos_tag(filtered_sentence)\n",
    "print(\"POS Tagged:\", pos_tagged[0:10])  # Displaying first 10 POS tagged words"
   ]
  },
  {
   "cell_type": "markdown",
   "id": "8ab5c9ee",
   "metadata": {},
   "source": [
    "## Named entity recognition\n",
    "To find proper , eg names, times, values"
   ]
  },
  {
   "cell_type": "code",
   "execution_count": 6,
   "id": "3182379e",
   "metadata": {},
   "outputs": [
    {
     "name": "stdout",
     "output_type": "stream",
     "text": [
      "Collecting numpy\n",
      "  Downloading numpy-2.2.6-cp313-cp313-win_amd64.whl.metadata (60 kB)\n",
      "Downloading numpy-2.2.6-cp313-cp313-win_amd64.whl (12.6 MB)\n",
      "   ---------------------------------------- 0.0/12.6 MB ? eta -:--:--\n",
      "    --------------------------------------- 0.3/12.6 MB ? eta -:--:--\n",
      "   ---- ----------------------------------- 1.6/12.6 MB 4.9 MB/s eta 0:00:03\n",
      "   ----------- ---------------------------- 3.7/12.6 MB 6.8 MB/s eta 0:00:02\n",
      "   ----------------- ---------------------- 5.5/12.6 MB 7.6 MB/s eta 0:00:01\n",
      "   ------------------------ --------------- 7.9/12.6 MB 8.6 MB/s eta 0:00:01\n",
      "   ---------------------------------- ----- 11.0/12.6 MB 9.6 MB/s eta 0:00:01\n",
      "   ---------------------------------------- 12.6/12.6 MB 9.8 MB/s eta 0:00:00\n",
      "Installing collected packages: numpy\n",
      "Successfully installed numpy-2.2.6\n"
     ]
    }
   ],
   "source": [
    "!pip install numpy"
   ]
  },
  {
   "cell_type": "code",
   "execution_count": 8,
   "id": "c29508cc",
   "metadata": {},
   "outputs": [
    {
     "name": "stdout",
     "output_type": "stream",
     "text": [
      "Named Entities: (S\n",
      "  (GPE Balrog/NNP)\n",
      "  reached/VBD\n",
      "  bridge/NN\n",
      "  ./.\n",
      "  (PERSON Gandalf/NNP)\n",
      "  stood/VBD\n",
      "  middle/JJ\n",
      "  span/NN\n",
      "  ,/,\n",
      "  leaning/VBG\n",
      "  staff/NN\n",
      "  left/VBD\n",
      "  hand/NN\n",
      "  ,/,\n",
      "  hand/NN\n",
      "  Glamdring/NNP\n",
      "  gleamed/VBD\n",
      "  ,/,\n",
      "  cold/JJ\n",
      "  white/JJ\n",
      "  ./.\n",
      "  enemy/NN\n",
      "  halted/VBD\n",
      "  ,/,\n",
      "  facing/VBG\n",
      "  ,/,\n",
      "  shadow/RB\n",
      "  reached/VBN\n",
      "  like/IN\n",
      "  two/CD\n",
      "  vast/JJ\n",
      "  wings/NNS\n",
      "  ./.\n",
      "  raised/VBN\n",
      "  whip/NN\n",
      "  ,/,\n",
      "  thongs/NNS\n",
      "  whined/VBD\n",
      "  cracked/VBN\n",
      "  ./.\n",
      "  (PERSON Fire/NNP)\n",
      "  came/VBD\n",
      "  nostrils/RB\n",
      "  ./.\n",
      "  (PERSON Gandalf/NNP)\n",
      "  stood/VBD\n",
      "  firm/NN\n",
      "  ./.\n",
      "  'You/CC\n",
      "  pass/NN\n",
      "  ,/,\n",
      "  '/''\n",
      "  said/VBD\n",
      "  ./.\n",
      "  orcs/NN\n",
      "  stood/VBD\n",
      "  still/RB\n",
      "  ,/,\n",
      "  dead/JJ\n",
      "  silence/NN\n",
      "  fell/VBD\n",
      "  ./.\n",
      "  '/''\n",
      "  servant/JJ\n",
      "  (ORGANIZATION Secret/NNP Fire/NNP)\n",
      "  ,/,\n",
      "  wielder/NN\n",
      "  flame/NN\n",
      "  Anor/NNP\n",
      "  ./.\n",
      "  pass/NN\n",
      "  ./.\n",
      "  dark/JJ\n",
      "  fire/NN\n",
      "  avail/NN\n",
      "  ,/,\n",
      "  flame/NN\n",
      "  (PERSON Udûn/NNP)\n",
      "  ./.\n",
      "  Go/NNP\n",
      "  back/RB\n",
      "  (PERSON Shadow/NNP)\n",
      "  !/.\n",
      "  pass/NN\n",
      "  ./.)\n"
     ]
    }
   ],
   "source": [
    "from nltk import ne_chunk\n",
    "ne_chunked = ne_chunk(pos_tagged)\n",
    "print(\"Named Entities:\", ne_chunked)  # Displaying named entities"
   ]
  },
  {
   "cell_type": "code",
   "execution_count": 9,
   "id": "143de377",
   "metadata": {},
   "outputs": [],
   "source": [
    "ne_chunked.draw()  # This will open a window to visualize the named entities"
   ]
  },
  {
   "cell_type": "markdown",
   "id": "6c011f2f",
   "metadata": {},
   "source": [
    "## Bag of Words\n",
    "Vector indicating the no. of instances of a word in the vocabulary are present."
   ]
  },
  {
   "cell_type": "markdown",
   "id": "219b3b48",
   "metadata": {},
   "source": [
    "## One hot encoding\n",
    "Binary encoding-each word is represented as an array, with (1) for the word's corresponding entry and zero elsewhere"
   ]
  },
  {
   "cell_type": "code",
   "execution_count": null,
   "id": "2b4f6060",
   "metadata": {},
   "outputs": [],
   "source": []
  }
 ],
 "metadata": {
  "kernelspec": {
   "display_name": "speakeasy",
   "language": "python",
   "name": "python3"
  },
  "language_info": {
   "codemirror_mode": {
    "name": "ipython",
    "version": 3
   },
   "file_extension": ".py",
   "mimetype": "text/x-python",
   "name": "python",
   "nbconvert_exporter": "python",
   "pygments_lexer": "ipython3",
   "version": "3.13.2"
  }
 },
 "nbformat": 4,
 "nbformat_minor": 5
}
